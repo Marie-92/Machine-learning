{
  "cells": [
    {
      "cell_type": "markdown",
      "id": "868d5de5-27b8-4f8b-998f-81bdcef4a519",
      "metadata": {
        "id": "868d5de5-27b8-4f8b-998f-81bdcef4a519"
      },
      "source": [
        "# 🎽 The North Face ecommerce 🎽\n",
        "North Face's marketing department would like to take advantage of machine learning solutions to boost online sales on the website \n",
        "They have identified two major solutions that could have a huge effect on the conversion rates :\n",
        "* Deploying a recommender system that will allow to suggest additionnal products to users, that are similar to the items they are already interested in. * The recommendations could be materialized by a \"you might also be interested by these products...\" section that would appear on each product page of the website.\n",
        "* Improving the structure of the products catalog thanks to topic extraction. The idea is to use unsupervised methods to challenge the existing categories : is it possible to find new categories of product that would be more suitable for the navigation on the website ?\n",
        "## 🎯 Goals \n",
        "The project can be cut into three steps :\n",
        "1. Identify groups of products that have similar descriptions.\n",
        "2. Use the groups of similar products to build a simple recommender system algorithm.\n",
        "3. Use topic modeling algorithms to automatically assess the latent topics present in the item descriptions.\n",
        "\n",
        "## 📚 Imports and installations"
      ]
    },
    {
      "cell_type": "code",
      "execution_count": null,
      "id": "0a146173-7f5f-4cb9-ab99-db16b62d8616",
      "metadata": {
        "id": "0a146173-7f5f-4cb9-ab99-db16b62d8616"
      },
      "outputs": [],
      "source": [
        "pip install spacy -q"
      ]
    },
    {
      "cell_type": "code",
      "execution_count": null,
      "id": "1979be09-ec79-4c66-ae12-c919b2242ee7",
      "metadata": {
        "id": "1979be09-ec79-4c66-ae12-c919b2242ee7"
      },
      "outputs": [],
      "source": [
        "pip install wordcloud -q"
      ]
    },
    {
      "cell_type": "code",
      "execution_count": null,
      "id": "9e01420f",
      "metadata": {
        "id": "9e01420f"
      },
      "outputs": [],
      "source": [
        "pip install bs4 -q"
      ]
    },
    {
      "cell_type": "code",
      "execution_count": null,
      "id": "2a3d930c-1650-4e71-a7e6-ce5ee4f06f10",
      "metadata": {
        "id": "2a3d930c-1650-4e71-a7e6-ce5ee4f06f10"
      },
      "outputs": [],
      "source": [
        "import pandas as pd\n",
        "import numpy as np\n",
        "from sklearn.feature_extraction.text import TfidfVectorizer\n",
        "import spacy\n",
        "from sklearn.decomposition import TruncatedSVD\n",
        "import seaborn as sns\n",
        "import en_core_web_sm\n",
        "nlp = en_core_web_sm.load()\n",
        "from spacy.lang.en.stop_words import STOP_WORDS\n",
        "import wordcloud\n",
        "import matplotlib.pyplot as plt"
      ]
    },
    {
      "cell_type": "markdown",
      "id": "aa50a868-ce50-4be8-abd1-794bbc671361",
      "metadata": {
        "id": "aa50a868-ce50-4be8-abd1-794bbc671361"
      },
      "source": [
        "## ⚙️ Preprocessing of textual data"
      ]
    },
    {
      "cell_type": "code",
      "execution_count": null,
      "id": "82304071-097f-4f97-a1c3-66ce528f2cea",
      "metadata": {
        "colab": {
          "base_uri": "https://localhost:8080/",
          "height": 206
        },
        "id": "82304071-097f-4f97-a1c3-66ce528f2cea",
        "outputId": "5025a187-a5b4-4dfb-d0a8-50edf0ba3377"
      },
      "outputs": [
        {
          "output_type": "execute_result",
          "data": {
            "text/plain": [
              "                     <script type=\"text/javascript\">\n",
              "0                                      (function() {\n",
              "1             var href = window.location.toString();\n",
              "2       var queryArgs = window.location.search; /...\n",
              "3       //     var hashArgs  = window.location.ha...\n",
              "4       // this avoids the FF bug where location...."
            ],
            "text/html": [
              "\n",
              "  <div id=\"df-420985fe-4f41-4e24-9b91-89658e7e7770\">\n",
              "    <div class=\"colab-df-container\">\n",
              "      <div>\n",
              "<style scoped>\n",
              "    .dataframe tbody tr th:only-of-type {\n",
              "        vertical-align: middle;\n",
              "    }\n",
              "\n",
              "    .dataframe tbody tr th {\n",
              "        vertical-align: top;\n",
              "    }\n",
              "\n",
              "    .dataframe thead th {\n",
              "        text-align: right;\n",
              "    }\n",
              "</style>\n",
              "<table border=\"1\" class=\"dataframe\">\n",
              "  <thead>\n",
              "    <tr style=\"text-align: right;\">\n",
              "      <th></th>\n",
              "      <th>&lt;script type=\"text/javascript\"&gt;</th>\n",
              "    </tr>\n",
              "  </thead>\n",
              "  <tbody>\n",
              "    <tr>\n",
              "      <th>0</th>\n",
              "      <td>(function() {</td>\n",
              "    </tr>\n",
              "    <tr>\n",
              "      <th>1</th>\n",
              "      <td>var href = window.location.toString();</td>\n",
              "    </tr>\n",
              "    <tr>\n",
              "      <th>2</th>\n",
              "      <td>var queryArgs = window.location.search; /...</td>\n",
              "    </tr>\n",
              "    <tr>\n",
              "      <th>3</th>\n",
              "      <td>//     var hashArgs  = window.location.ha...</td>\n",
              "    </tr>\n",
              "    <tr>\n",
              "      <th>4</th>\n",
              "      <td>// this avoids the FF bug where location....</td>\n",
              "    </tr>\n",
              "  </tbody>\n",
              "</table>\n",
              "</div>\n",
              "      <button class=\"colab-df-convert\" onclick=\"convertToInteractive('df-420985fe-4f41-4e24-9b91-89658e7e7770')\"\n",
              "              title=\"Convert this dataframe to an interactive table.\"\n",
              "              style=\"display:none;\">\n",
              "        \n",
              "  <svg xmlns=\"http://www.w3.org/2000/svg\" height=\"24px\"viewBox=\"0 0 24 24\"\n",
              "       width=\"24px\">\n",
              "    <path d=\"M0 0h24v24H0V0z\" fill=\"none\"/>\n",
              "    <path d=\"M18.56 5.44l.94 2.06.94-2.06 2.06-.94-2.06-.94-.94-2.06-.94 2.06-2.06.94zm-11 1L8.5 8.5l.94-2.06 2.06-.94-2.06-.94L8.5 2.5l-.94 2.06-2.06.94zm10 10l.94 2.06.94-2.06 2.06-.94-2.06-.94-.94-2.06-.94 2.06-2.06.94z\"/><path d=\"M17.41 7.96l-1.37-1.37c-.4-.4-.92-.59-1.43-.59-.52 0-1.04.2-1.43.59L10.3 9.45l-7.72 7.72c-.78.78-.78 2.05 0 2.83L4 21.41c.39.39.9.59 1.41.59.51 0 1.02-.2 1.41-.59l7.78-7.78 2.81-2.81c.8-.78.8-2.07 0-2.86zM5.41 20L4 18.59l7.72-7.72 1.47 1.35L5.41 20z\"/>\n",
              "  </svg>\n",
              "      </button>\n",
              "      \n",
              "  <style>\n",
              "    .colab-df-container {\n",
              "      display:flex;\n",
              "      flex-wrap:wrap;\n",
              "      gap: 12px;\n",
              "    }\n",
              "\n",
              "    .colab-df-convert {\n",
              "      background-color: #E8F0FE;\n",
              "      border: none;\n",
              "      border-radius: 50%;\n",
              "      cursor: pointer;\n",
              "      display: none;\n",
              "      fill: #1967D2;\n",
              "      height: 32px;\n",
              "      padding: 0 0 0 0;\n",
              "      width: 32px;\n",
              "    }\n",
              "\n",
              "    .colab-df-convert:hover {\n",
              "      background-color: #E2EBFA;\n",
              "      box-shadow: 0px 1px 2px rgba(60, 64, 67, 0.3), 0px 1px 3px 1px rgba(60, 64, 67, 0.15);\n",
              "      fill: #174EA6;\n",
              "    }\n",
              "\n",
              "    [theme=dark] .colab-df-convert {\n",
              "      background-color: #3B4455;\n",
              "      fill: #D2E3FC;\n",
              "    }\n",
              "\n",
              "    [theme=dark] .colab-df-convert:hover {\n",
              "      background-color: #434B5C;\n",
              "      box-shadow: 0px 1px 3px 1px rgba(0, 0, 0, 0.15);\n",
              "      filter: drop-shadow(0px 1px 2px rgba(0, 0, 0, 0.3));\n",
              "      fill: #FFFFFF;\n",
              "    }\n",
              "  </style>\n",
              "\n",
              "      <script>\n",
              "        const buttonEl =\n",
              "          document.querySelector('#df-420985fe-4f41-4e24-9b91-89658e7e7770 button.colab-df-convert');\n",
              "        buttonEl.style.display =\n",
              "          google.colab.kernel.accessAllowed ? 'block' : 'none';\n",
              "\n",
              "        async function convertToInteractive(key) {\n",
              "          const element = document.querySelector('#df-420985fe-4f41-4e24-9b91-89658e7e7770');\n",
              "          const dataTable =\n",
              "            await google.colab.kernel.invokeFunction('convertToInteractive',\n",
              "                                                     [key], {});\n",
              "          if (!dataTable) return;\n",
              "\n",
              "          const docLinkHtml = 'Like what you see? Visit the ' +\n",
              "            '<a target=\"_blank\" href=https://colab.research.google.com/notebooks/data_table.ipynb>data table notebook</a>'\n",
              "            + ' to learn more about interactive tables.';\n",
              "          element.innerHTML = '';\n",
              "          dataTable['output_type'] = 'display_data';\n",
              "          await google.colab.output.renderOutput(dataTable, element);\n",
              "          const docLink = document.createElement('div');\n",
              "          docLink.innerHTML = docLinkHtml;\n",
              "          element.appendChild(docLink);\n",
              "        }\n",
              "      </script>\n",
              "    </div>\n",
              "  </div>\n",
              "  "
            ]
          },
          "metadata": {},
          "execution_count": 17
        }
      ],
      "source": [
        "df = pd.read_csv('sample-data.csv')\n",
        "df.head()"
      ]
    },
    {
      "cell_type": "code",
      "execution_count": null,
      "id": "7290da7b",
      "metadata": {
        "id": "7290da7b"
      },
      "outputs": [],
      "source": [
        "# Creating an 'article_name column'\n",
        "df['article_name'] = df['description'].str.split('-').str[0]\n",
        "df.head()"
      ]
    },
    {
      "cell_type": "code",
      "execution_count": null,
      "id": "87afce5c-598b-4be4-8cf5-75fd5860e415",
      "metadata": {
        "id": "87afce5c-598b-4be4-8cf5-75fd5860e415"
      },
      "outputs": [],
      "source": [
        "df['description'][0]"
      ]
    },
    {
      "cell_type": "markdown",
      "id": "6709c060-c2f9-490a-8ea3-3aaec7a1e875",
      "metadata": {
        "id": "6709c060-c2f9-490a-8ea3-3aaec7a1e875"
      },
      "source": [
        "### 🧹 Cleaning the corpus\n",
        "We make some preprocessings to clean the corpus (in particular, handle stop words and lemmatize the documents)"
      ]
    },
    {
      "cell_type": "code",
      "execution_count": null,
      "id": "8bee00dc-e6ce-4bf1-bf1c-442e9138b09c",
      "metadata": {
        "id": "8bee00dc-e6ce-4bf1-bf1c-442e9138b09c"
      },
      "outputs": [],
      "source": [
        "from bs4 import BeautifulSoup\n",
        "df['text_clean'] = [BeautifulSoup(elem).get_text(separator=' ') for elem in df['description']]\n",
        "df['text_clean'] = df['text_clean'].apply(lambda x: ''.join(ch for ch in x if ch.isalpha() or ch==\" \"))\n",
        "df['text_clean'] = df['text_clean'].fillna('').apply(lambda x: x.lower())\n",
        "df.head()"
      ]
    },
    {
      "cell_type": "code",
      "execution_count": null,
      "id": "bc6eb707-c703-413d-9de7-78469614492b",
      "metadata": {
        "id": "bc6eb707-c703-413d-9de7-78469614492b"
      },
      "outputs": [],
      "source": [
        "df['text_clean'][0]"
      ]
    },
    {
      "cell_type": "code",
      "execution_count": null,
      "id": "e4474fcb-31a8-442a-add6-61c4c88d952c",
      "metadata": {
        "id": "e4474fcb-31a8-442a-add6-61c4c88d952c"
      },
      "outputs": [],
      "source": [
        "df['processed_documents'] = df['text_clean'].apply(lambda x: \" \".join([token.lemma_ for token in nlp(x) if (token.lemma_ not in STOP_WORDS) and (token.text not in STOP_WORDS)]))"
      ]
    },
    {
      "cell_type": "code",
      "execution_count": null,
      "id": "b2b8cc64-4ac9-4ee8-b449-905116c1562d",
      "metadata": {
        "id": "b2b8cc64-4ac9-4ee8-b449-905116c1562d"
      },
      "outputs": [],
      "source": [
        "df['processed_documents'][0]"
      ]
    },
    {
      "cell_type": "markdown",
      "id": "167aed74-a242-45d6-9cfd-5203bbc7616c",
      "metadata": {
        "id": "167aed74-a242-45d6-9cfd-5203bbc7616c"
      },
      "source": [
        "### 📜 TF-IDF transformation\n",
        "We encode the texts with TF-IDF transformation"
      ]
    },
    {
      "cell_type": "code",
      "execution_count": null,
      "id": "80be089a-63ff-4fef-a6d7-09d3faed6c8b",
      "metadata": {
        "id": "80be089a-63ff-4fef-a6d7-09d3faed6c8b"
      },
      "outputs": [],
      "source": [
        "vectorizer = TfidfVectorizer()\n",
        "X = vectorizer.fit_transform(df['processed_documents'])"
      ]
    },
    {
      "cell_type": "code",
      "execution_count": null,
      "id": "c8a92791",
      "metadata": {
        "id": "c8a92791"
      },
      "outputs": [],
      "source": [
        "words_df = pd.DataFrame(X.toarray(), columns=vectorizer.get_feature_names_out()).T\n",
        "words_df['sum'] = words_df.sum(axis=1)\n",
        "words_df.head()"
      ]
    },
    {
      "cell_type": "markdown",
      "id": "5ee90193-f002-462a-bf09-ce60d16485f4",
      "metadata": {
        "id": "5ee90193-f002-462a-bf09-ce60d16485f4"
      },
      "source": [
        "## Part 1 : Groups of products with similar descriptions\n",
        "\n",
        "In this part, we train a clustering model that will create groups of products for which the descriptions are \"close\" to each other.\n",
        "\n",
        "### ✨ DBSCAN clustering\n",
        "\n",
        "We use DBSCAN to make some clustering on the TF-IDF matrix. "
      ]
    },
    {
      "cell_type": "code",
      "execution_count": null,
      "id": "683cf10e",
      "metadata": {
        "id": "683cf10e"
      },
      "outputs": [],
      "source": [
        "from sklearn.cluster import DBSCAN\n",
        "db = DBSCAN(eps=0.7, metric='cosine', min_samples=4)\n",
        "db.fit(X)\n",
        "clusters_number = len(np.unique(db.labels_[db.labels_ != -1]))\n",
        "print(f'{clusters_number} clusters were created by DBSCAN')"
      ]
    },
    {
      "cell_type": "markdown",
      "id": "95dd26ac-3be5-44b9-aa13-b69329b27f3c",
      "metadata": {
        "id": "95dd26ac-3be5-44b9-aa13-b69329b27f3c"
      },
      "source": [
        "### ☁️ Displaying wordclouds\n",
        "We display a wordcloud for each cluster to analyze the results and see if the groups contain different words."
      ]
    },
    {
      "cell_type": "code",
      "execution_count": null,
      "id": "4b4bcdee-5db0-4fbd-82ae-c5078d9d179b",
      "metadata": {
        "id": "4b4bcdee-5db0-4fbd-82ae-c5078d9d179b"
      },
      "outputs": [],
      "source": [
        "wd = wordcloud.WordCloud(background_color=\"white\", colormap=\"hsv\")\n",
        "for cluster in range(clusters_number):\n",
        "    mask = list(np.where(db.labels_ == cluster)[0])\n",
        "    words = list(words_df.iloc[:,mask].T.sum().sort_values(ascending=False).index[0:20])\n",
        "    plt.imshow(wd.generate(\" \".join(words)))\n",
        "    plt.axis('off')\n",
        "    plt.show()"
      ]
    },
    {
      "cell_type": "markdown",
      "id": "d2b11258-ad73-4cdd-a93a-e6fc8f30d4d0",
      "metadata": {
        "id": "d2b11258-ad73-4cdd-a93a-e6fc8f30d4d0"
      },
      "source": [
        "## 👕 Part 2 - Recommender system\n",
        "\n",
        "Then, we can use the cluster ids from part 1 to build a recommender system. The aim is to be able to suggest to a user some products that are similar to the ones he is interested in. To do this, we will consider that products belonging to the same cluster are similar."
      ]
    },
    {
      "cell_type": "code",
      "execution_count": null,
      "id": "fa502823",
      "metadata": {
        "id": "fa502823"
      },
      "outputs": [],
      "source": [
        "def item_name(item_id):\n",
        "    return df['article_name'][df['id'] == item_id].values[0]\n",
        "\n",
        "def item_cluster(item_id):\n",
        "    return db.labels_[df['id'][item_id]]\n",
        "\n",
        "def find_similar_items():\n",
        "    item_id = int(input(\"Enter an id between 1 and 500\"))\n",
        "    print(f\"Recommending 5 products similar to {item_name(item_id)}:\")\n",
        "    similar_items_list = list(np.random.choice(df['id'][db.labels_ == item_cluster(item_id)].values, 5))\n",
        "    for item in similar_items_list:\n",
        "        print(\"* \" + item_name(item))"
      ]
    },
    {
      "cell_type": "code",
      "execution_count": null,
      "id": "c5a02002-3b83-4d95-b6c9-e96504aa03ce",
      "metadata": {
        "id": "c5a02002-3b83-4d95-b6c9-e96504aa03ce"
      },
      "outputs": [],
      "source": [
        "find_similar_items()"
      ]
    },
    {
      "cell_type": "markdown",
      "id": "b79789e0-3998-4184-be7f-4c651f01261e",
      "metadata": {
        "id": "b79789e0-3998-4184-be7f-4c651f01261e"
      },
      "source": [
        "## 💬 Part 3 : Topic modeling\n",
        "\n",
        "We use an LSA model (TruncatedSVD) to automatically extract latent topics in the products' descriptions from the TF-IDF matrix.\n",
        "Contrary to clustering, LSA allows to map each document to a mixing of several topics. For this reason, it's a bit more difficult to interpret the topics as categories : one document can actually be related to several topics at a time. To make things easier, consider extracting the main topic of each document.\n",
        "As in part 1, you can display wordclouds to analyze the results."
      ]
    },
    {
      "cell_type": "code",
      "execution_count": null,
      "id": "4ad5fbbe-05d3-4e3d-9976-f5891be1d233",
      "metadata": {
        "id": "4ad5fbbe-05d3-4e3d-9976-f5891be1d233"
      },
      "outputs": [],
      "source": [
        "svd_model = TruncatedSVD(n_components=15, n_iter=100)\n",
        "svd_model.fit_transform(X)"
      ]
    },
    {
      "cell_type": "code",
      "execution_count": null,
      "id": "84a890b7-149f-4135-9af2-a915e1c60da0",
      "metadata": {
        "id": "84a890b7-149f-4135-9af2-a915e1c60da0"
      },
      "outputs": [],
      "source": [
        "topic_encoded_df = pd.DataFrame(svd_model.components_, columns=vectorizer.get_feature_names_out()).T\n",
        "topic_encoded_df.columns = [f\"topic_{i}\" for i in range(15)]\n",
        "topic_encoded_df.head()"
      ]
    },
    {
      "cell_type": "markdown",
      "id": "06e1ffd3",
      "metadata": {
        "id": "06e1ffd3"
      },
      "source": [
        "### ☁️ Displaying wordclouds"
      ]
    },
    {
      "cell_type": "code",
      "execution_count": null,
      "id": "42f076dd-3b7d-4ab3-bd6b-25758e248496",
      "metadata": {
        "id": "42f076dd-3b7d-4ab3-bd6b-25758e248496"
      },
      "outputs": [],
      "source": [
        "wd = wordcloud.WordCloud(background_color=\"white\", colormap=\"hsv\")\n",
        "for col in topic_encoded_df.columns:\n",
        "    words = list(topic_encoded_df[col].sort_values(ascending=False).index[0:20])\n",
        "    plt.imshow(wd.generate(\" \".join(words)))\n",
        "    plt.axis('off')\n",
        "    plt.show()"
      ]
    }
  ],
  "metadata": {
    "kernelspec": {
      "display_name": "Python 3",
      "language": "python",
      "name": "python3"
    },
    "language_info": {
      "codemirror_mode": {
        "name": "ipython",
        "version": 3
      },
      "file_extension": ".py",
      "mimetype": "text/x-python",
      "name": "python",
      "nbconvert_exporter": "python",
      "pygments_lexer": "ipython3",
      "version": "3.10.8 (tags/v3.10.8:aaaf517, Oct 11 2022, 16:50:30) [MSC v.1933 64 bit (AMD64)]"
    },
    "vscode": {
      "interpreter": {
        "hash": "e593ac106456af50ce7af38f9671c411b49d6cd90f9b885e167f0f594e09038c"
      }
    },
    "colab": {
      "provenance": []
    }
  },
  "nbformat": 4,
  "nbformat_minor": 5
}