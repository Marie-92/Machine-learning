{
  "cells": [
    {
      "cell_type": "markdown",
      "metadata": {
        "id": "0eiKSLYG8XvO"
      },
      "source": [
        "# Challenge : predict conversions 🏆🏆"
      ]
    },
    {
      "cell_type": "markdown",
      "metadata": {
        "id": "OneSXoS-KCXa"
      },
      "source": [
        "# Import libraries"
      ]
    },
    {
      "cell_type": "code",
      "execution_count": null,
      "metadata": {
        "id": "AGhdl7Bt2xZd"
      },
      "outputs": [],
      "source": [
        "import pandas as pd\n",
        "import numpy as np\n",
        "\n",
        "from sklearn.model_selection import train_test_split, cross_val_score, GridSearchCV\n",
        "from sklearn.impute import SimpleImputer\n",
        "from sklearn.preprocessing import StandardScaler, OneHotEncoder, LabelEncoder\n",
        "from sklearn.compose import ColumnTransformer\n",
        "from sklearn.linear_model import LogisticRegression, Ridge, Lasso\n",
        "from sklearn.metrics import accuracy_score, f1_score, ConfusionMatrixDisplay, RocCurveDisplay\n",
        "from sklearn.pipeline import Pipeline\n",
        "from sklearn.tree import DecisionTreeClassifier\n",
        "from sklearn.ensemble import RandomForestClassifier, BaggingClassifier, AdaBoostClassifier, GradientBoostingClassifier, StackingClassifier\n",
        "\n",
        "import matplotlib.pyplot as plt\n",
        "import plotly.express as px\n",
        "import plotly.graph_objects as go\n",
        "import plotly.io as pio\n",
        "import plotly.figure_factory as ff"
      ]
    },
    {
      "cell_type": "markdown",
      "metadata": {
        "id": "LHgro65rxKF7"
      },
      "source": [
        "# Read file with labels"
      ]
    },
    {
      "cell_type": "code",
      "execution_count": null,
      "metadata": {
        "colab": {
          "base_uri": "https://localhost:8080/",
          "height": 34
        },
        "id": "W1AU8AH8u0qd",
        "outputId": "00698a97-027b-493b-a2e4-33fdcc295abb"
      },
      "outputs": [
        {
          "name": "stdout",
          "output_type": "stream",
          "text": [
            "Set with labels (our train+test) : (284580, 6)\n"
          ]
        }
      ],
      "source": [
        "df = pd.read_csv('https://julie-2-next-resources.s3.eu-west-3.amazonaws.com/full-stack-full-time/projects-supervised-machine-learning-ft/walmart-sales-ft/conversion_data_train.csv')\n",
        "print('Set with labels (our train+test) :', df.shape)"
      ]
    },
    {
      "cell_type": "code",
      "execution_count": null,
      "metadata": {
        "id": "WnunIHMyKCX-",
        "outputId": "a8ae49e6-b0bd-46c9-cfd6-de4c98cd0106"
      },
      "outputs": [
        {
          "data": {
            "text/html": [
              "<div>\n",
              "<style scoped>\n",
              "    .dataframe tbody tr th:only-of-type {\n",
              "        vertical-align: middle;\n",
              "    }\n",
              "\n",
              "    .dataframe tbody tr th {\n",
              "        vertical-align: top;\n",
              "    }\n",
              "\n",
              "    .dataframe thead th {\n",
              "        text-align: right;\n",
              "    }\n",
              "</style>\n",
              "<table border=\"1\" class=\"dataframe\">\n",
              "  <thead>\n",
              "    <tr style=\"text-align: right;\">\n",
              "      <th></th>\n",
              "      <th>country</th>\n",
              "      <th>age</th>\n",
              "      <th>new_user</th>\n",
              "      <th>source</th>\n",
              "      <th>total_pages_visited</th>\n",
              "      <th>converted</th>\n",
              "    </tr>\n",
              "  </thead>\n",
              "  <tbody>\n",
              "    <tr>\n",
              "      <th>0</th>\n",
              "      <td>China</td>\n",
              "      <td>22</td>\n",
              "      <td>1</td>\n",
              "      <td>Direct</td>\n",
              "      <td>2</td>\n",
              "      <td>0</td>\n",
              "    </tr>\n",
              "    <tr>\n",
              "      <th>1</th>\n",
              "      <td>UK</td>\n",
              "      <td>21</td>\n",
              "      <td>1</td>\n",
              "      <td>Ads</td>\n",
              "      <td>3</td>\n",
              "      <td>0</td>\n",
              "    </tr>\n",
              "    <tr>\n",
              "      <th>2</th>\n",
              "      <td>Germany</td>\n",
              "      <td>20</td>\n",
              "      <td>0</td>\n",
              "      <td>Seo</td>\n",
              "      <td>14</td>\n",
              "      <td>1</td>\n",
              "    </tr>\n",
              "    <tr>\n",
              "      <th>3</th>\n",
              "      <td>US</td>\n",
              "      <td>23</td>\n",
              "      <td>1</td>\n",
              "      <td>Seo</td>\n",
              "      <td>3</td>\n",
              "      <td>0</td>\n",
              "    </tr>\n",
              "    <tr>\n",
              "      <th>4</th>\n",
              "      <td>US</td>\n",
              "      <td>28</td>\n",
              "      <td>1</td>\n",
              "      <td>Direct</td>\n",
              "      <td>3</td>\n",
              "      <td>0</td>\n",
              "    </tr>\n",
              "  </tbody>\n",
              "</table>\n",
              "</div>"
            ],
            "text/plain": [
              "   country  age  new_user  source  total_pages_visited  converted\n",
              "0    China   22         1  Direct                    2          0\n",
              "1       UK   21         1     Ads                    3          0\n",
              "2  Germany   20         0     Seo                   14          1\n",
              "3       US   23         1     Seo                    3          0\n",
              "4       US   28         1  Direct                    3          0"
            ]
          },
          "execution_count": 3,
          "metadata": {},
          "output_type": "execute_result"
        }
      ],
      "source": [
        "df.head()"
      ]
    },
    {
      "cell_type": "markdown",
      "metadata": {
        "id": "8rtoNJ2OKCYC"
      },
      "source": [
        "## Feature engineering"
      ]
    },
    {
      "cell_type": "code",
      "execution_count": null,
      "metadata": {
        "id": "trGB_OrDKCYE"
      },
      "outputs": [],
      "source": [
        "df['age_2'] = df['age'] ** 2\n",
        "df['total_pages_visited_2'] = df['total_pages_visited'] **2\n",
        "df['age_inverse'] = 1/df['age']\n",
        "df['total_pages_visited_inverse'] = 1/df['total_pages_visited']\n",
        "df['age_3'] = df['age'] ** 3\n",
        "df['total_pages_visited_3'] = df['total_pages_visited'] **3\n",
        "df['age_inverse_2'] = 1/(df['age'])**2\n",
        "df['total_pages_visited_inverse_2'] = 1/(df['total_pages_visited'])**2\n",
        "df['age_4'] = df['age'] ** 4\n",
        "df['total_pages_visited_4'] = df['total_pages_visited'] **4"
      ]
    },
    {
      "cell_type": "markdown",
      "metadata": {
        "id": "ZbZ3OVnMKCYF"
      },
      "source": [
        "## Preprocessings"
      ]
    },
    {
      "cell_type": "code",
      "execution_count": null,
      "metadata": {
        "id": "dCOuVaXNKCYH",
        "outputId": "a8e592a6-4a97-49a4-d79e-61e507d3e951"
      },
      "outputs": [
        {
          "name": "stdout",
          "output_type": "stream",
          "text": [
            "Separating labels from features...\n",
            "...Done.\n",
            "\n",
            "Y : \n",
            "0    0\n",
            "1    0\n",
            "2    1\n",
            "3    0\n",
            "4    0\n",
            "Name: converted, dtype: int64\n",
            "\n",
            "X :\n",
            "   age  new_user  total_pages_visited  age_2  age_inverse  \\\n",
            "0   22         1                    2    484     0.045455   \n",
            "1   21         1                    3    441     0.047619   \n",
            "2   20         0                   14    400     0.050000   \n",
            "3   23         1                    3    529     0.043478   \n",
            "4   28         1                    3    784     0.035714   \n",
            "\n",
            "   total_pages_visited_2  total_pages_visited_inverse  country  age_3  \\\n",
            "0                      4                     0.500000    China  10648   \n",
            "1                      9                     0.333333       UK   9261   \n",
            "2                    196                     0.071429  Germany   8000   \n",
            "3                      9                     0.333333       US  12167   \n",
            "4                      9                     0.333333       US  21952   \n",
            "\n",
            "   age_inverse_2  total_pages_visited_3  total_pages_visited_inverse_2  \\\n",
            "0       0.002066                      8                       0.250000   \n",
            "1       0.002268                     27                       0.111111   \n",
            "2       0.002500                   2744                       0.005102   \n",
            "3       0.001890                     27                       0.111111   \n",
            "4       0.001276                     27                       0.111111   \n",
            "\n",
            "    age_4  total_pages_visited_4  \n",
            "0  234256                     16  \n",
            "1  194481                     81  \n",
            "2  160000                  38416  \n",
            "3  279841                     81  \n",
            "4  614656                     81  \n"
          ]
        }
      ],
      "source": [
        "print(\"Separating labels from features...\")\n",
        "features_list = ['age', 'new_user', 'total_pages_visited', 'age_2', 'age_inverse', 'total_pages_visited_2', 'total_pages_visited_inverse','country',  'age_3', 'age_inverse_2', 'total_pages_visited_3', 'total_pages_visited_inverse_2', 'age_4', 'total_pages_visited_4']\n",
        "target_variable = \"converted\"\n",
        "\n",
        "X = df.loc[:,features_list]\n",
        "Y = df.loc[:,target_variable]\n",
        "\n",
        "print(\"...Done.\")\n",
        "print()\n",
        "\n",
        "print('Y : ')\n",
        "print(Y.head())\n",
        "print()\n",
        "print('X :')\n",
        "print(X.head())"
      ]
    },
    {
      "cell_type": "markdown",
      "metadata": {
        "id": "5z6N1r_eKCYM"
      },
      "source": [
        "#### Separating numeric features from categorical features"
      ]
    },
    {
      "cell_type": "code",
      "execution_count": null,
      "metadata": {
        "id": "N5Z3JFcpKCYN"
      },
      "outputs": [],
      "source": [
        "numeric_features = ['age', 'new_user', 'total_pages_visited', 'age_2', 'age_inverse', 'total_pages_visited_2', 'total_pages_visited_inverse', 'age_3', 'age_inverse_2', 'total_pages_visited_3', 'total_pages_visited_inverse_2', 'age_4', 'total_pages_visited_4']\n",
        "categorical_features = ['country']"
      ]
    },
    {
      "cell_type": "markdown",
      "metadata": {
        "id": "fy7iMzdKKCYP"
      },
      "source": [
        "#### Dividing into train and test sets"
      ]
    },
    {
      "cell_type": "code",
      "execution_count": null,
      "metadata": {
        "id": "pbOmZqIxKCYR",
        "outputId": "c0692a44-c042-4a7d-b088-53dd148cc911"
      },
      "outputs": [
        {
          "name": "stdout",
          "output_type": "stream",
          "text": [
            "Dividing into train and test sets...\n",
            "...Done.\n",
            "\n"
          ]
        }
      ],
      "source": [
        "X_train, X_test, Y_train, Y_test = train_test_split(X, Y, test_size=0.2, random_state=0, stratify=Y)"
      ]
    },
    {
      "cell_type": "markdown",
      "metadata": {
        "id": "PaiXGNlzKCYT"
      },
      "source": [
        "#### Preprocessings : imputation of missing values, standardizing and one-hot encoding"
      ]
    },
    {
      "cell_type": "code",
      "execution_count": null,
      "metadata": {
        "id": "bSXNuz1PKCYU"
      },
      "outputs": [],
      "source": [
        "numeric_transformer = Pipeline(steps=[\n",
        "    ('imputer', SimpleImputer(strategy='mean')), \n",
        "    ('scaler', StandardScaler())\n",
        "])\n",
        "categorical_transformer = Pipeline(\n",
        "    steps=[\n",
        "    ('imputer', SimpleImputer(strategy='most_frequent')), \n",
        "    ('encoder', OneHotEncoder(drop='first')) \n",
        "    ])\n",
        "preprocessor = ColumnTransformer(\n",
        "    transformers=[\n",
        "    ('num', numeric_transformer, numeric_features),\n",
        "    ('cat', categorical_transformer, categorical_features)\n",
        "    ])\n",
        "encoder = LabelEncoder()"
      ]
    },
    {
      "cell_type": "code",
      "execution_count": null,
      "metadata": {
        "id": "FK6vPZq-KCYW"
      },
      "outputs": [],
      "source": [
        "X_train = preprocessor.fit_transform(X_train)\n",
        "Y_train = encoder.fit_transform(Y_train)"
      ]
    },
    {
      "cell_type": "code",
      "execution_count": null,
      "metadata": {
        "id": "iyZxmXNNKCYX"
      },
      "outputs": [],
      "source": [
        "X_test = preprocessor.transform(X_test)\n",
        "Y_test = encoder.transform(Y_test)"
      ]
    },
    {
      "cell_type": "markdown",
      "metadata": {
        "id": "dVWVLrt-KCYa"
      },
      "source": [
        "## Training model"
      ]
    },
    {
      "cell_type": "code",
      "execution_count": null,
      "metadata": {
        "id": "OoxC040lKCYc"
      },
      "outputs": [],
      "source": [
        "logistic_regression = LogisticRegression(C=8)\n",
        "adaboost_logreg = AdaBoostClassifier(logistic_regression, n_estimators=100)\n",
        "\n",
        "adaboost_logreg.fit(X_train, Y_train)\n",
        "print(\"...Done.\")"
      ]
    },
    {
      "cell_type": "markdown",
      "metadata": {
        "id": "vXkB_CzcKCYe"
      },
      "source": [
        "## Predictions"
      ]
    },
    {
      "cell_type": "code",
      "execution_count": null,
      "metadata": {
        "tags": [],
        "id": "0ZSwFN9WKCYh"
      },
      "outputs": [],
      "source": [
        "Y_train_pred = adaboost_logreg.predict(X_train)\n",
        "Y_test_pred = adaboost_logreg.predict(X_test)"
      ]
    },
    {
      "cell_type": "markdown",
      "metadata": {
        "id": "lV36q7bNKCYi"
      },
      "source": [
        "## Performance Evaluation"
      ]
    },
    {
      "cell_type": "code",
      "execution_count": null,
      "metadata": {
        "id": "34vP5nyDKCYj"
      },
      "outputs": [],
      "source": [
        "print(\"f1-score on training set : \", f1_score(Y_train, Y_train_pred))\n",
        "print(\"f1-score on test set : \", f1_score(Y_test, Y_test_pred))"
      ]
    }
  ],
  "metadata": {
    "colab": {
      "provenance": []
    },
    "kernelspec": {
      "display_name": "Python 3",
      "language": "python",
      "name": "python3"
    },
    "language_info": {
      "codemirror_mode": {
        "name": "ipython",
        "version": 3
      },
      "file_extension": ".py",
      "mimetype": "text/x-python",
      "name": "python",
      "nbconvert_exporter": "python",
      "pygments_lexer": "ipython3",
      "version": "3.10.8 (tags/v3.10.8:aaaf517, Oct 11 2022, 16:50:30) [MSC v.1933 64 bit (AMD64)]"
    },
    "vscode": {
      "interpreter": {
        "hash": "e593ac106456af50ce7af38f9671c411b49d6cd90f9b885e167f0f594e09038c"
      }
    }
  },
  "nbformat": 4,
  "nbformat_minor": 0
}