{
  "cells": [
    {
      "cell_type": "markdown",
      "id": "8eb69f54-5a6b-466e-9cdd-a3a9b50c3266",
      "metadata": {
        "id": "8eb69f54-5a6b-466e-9cdd-a3a9b50c3266"
      },
      "source": [
        "# 🛍️ Walmart : predict weekly sales 🛍️\n",
        "Walmart's marketing service has asked you to build a machine learning model able to estimate the weekly sales in their stores, with the best precision possible on the predictions made. Such a model would help them understand better how the sales are influenced by economic indicators, and might be used to plan future marketing campaigns.\n",
        "\n",
        "## 🎯 Goals \n",
        "The project can be divided into three steps:\n",
        "\n",
        "* Part 1 : make an EDA and all the necessary preprocessings to prepare data for machine learning\n",
        "* Part 2 : train a linear regression model (baseline)\n",
        "* Part 3 : avoid overfitting by training a regularized regression model\n",
        "\n",
        "## 📚 Imports and installations"
      ]
    },
    {
      "cell_type": "code",
      "execution_count": null,
      "id": "449c3120-1032-4862-99c0-bf91e71cf3ed",
      "metadata": {
        "id": "449c3120-1032-4862-99c0-bf91e71cf3ed"
      },
      "outputs": [],
      "source": [
        "import pandas as pd\n",
        "import numpy as np\n",
        "from scipy import stats\n",
        "\n",
        "from sklearn.model_selection import train_test_split, cross_val_score, GridSearchCV\n",
        "from sklearn.pipeline import Pipeline\n",
        "from sklearn.impute import SimpleImputer\n",
        "from sklearn.preprocessing import  OneHotEncoder, StandardScaler, LabelEncoder\n",
        "from sklearn.compose import ColumnTransformer\n",
        "from sklearn.linear_model import LinearRegression, Ridge, Lasso\n",
        "from sklearn.metrics import r2_score\n",
        "\n",
        "import plotly.express as px\n",
        "import plotly.graph_objects as go\n",
        "import plotly.io as pio\n",
        "import plotly.figure_factory as ff\n",
        "import warnings\n",
        "warnings.filterwarnings(\"ignore\")"
      ]
    },
    {
      "cell_type": "markdown",
      "id": "d45f4769-539a-4b57-9b03-d8b9c1141c16",
      "metadata": {
        "id": "d45f4769-539a-4b57-9b03-d8b9c1141c16"
      },
      "source": [
        "## Part 1 : EDA and data preprocessing\n",
        "### 🔍 EDA"
      ]
    },
    {
      "cell_type": "code",
      "execution_count": null,
      "id": "8e9d2442-0a8b-4418-bc95-0d03bfb3d63a",
      "metadata": {
        "id": "8e9d2442-0a8b-4418-bc95-0d03bfb3d63a"
      },
      "outputs": [],
      "source": [
        "df = pd.read_csv('https://julie-2-next-resources.s3.eu-west-3.amazonaws.com/full-stack-full-time/projects-supervised-machine-learning-ft/walmart-sales-ft/Walmart_Store_sales.csv')"
      ]
    },
    {
      "cell_type": "markdown",
      "id": "d32cd90b",
      "metadata": {
        "id": "d32cd90b"
      },
      "source": [
        "Dataset description"
      ]
    },
    {
      "cell_type": "code",
      "execution_count": null,
      "id": "c29b8f24-4227-45c3-ad11-e80314320f43",
      "metadata": {
        "colab": {
          "base_uri": "https://localhost:8080/",
          "height": 861
        },
        "id": "c29b8f24-4227-45c3-ad11-e80314320f43",
        "outputId": "a46da449-2106-4feb-e432-4e69f583464d"
      },
      "outputs": [
        {
          "output_type": "stream",
          "name": "stdout",
          "text": [
            "Number of rows : 150\n",
            "\n",
            "Display of dataset: \n"
          ]
        },
        {
          "output_type": "display_data",
          "data": {
            "text/plain": [
              "   Store        Date  Weekly_Sales  Holiday_Flag  Temperature  Fuel_Price  \\\n",
              "0    6.0  18-02-2011    1572117.54           NaN        59.61       3.045   \n",
              "1   13.0  25-03-2011    1807545.43           0.0        42.38       3.435   \n",
              "2   17.0  27-07-2012           NaN           0.0          NaN         NaN   \n",
              "3   11.0         NaN    1244390.03           0.0        84.57         NaN   \n",
              "4    6.0  28-05-2010    1644470.66           0.0        78.89       2.759   \n",
              "\n",
              "          CPI  Unemployment  \n",
              "0  214.777523         6.858  \n",
              "1  128.616064         7.470  \n",
              "2  130.719581         5.936  \n",
              "3  214.556497         7.346  \n",
              "4  212.412888         7.092  "
            ],
            "text/html": [
              "\n",
              "  <div id=\"df-e0ccde25-982d-4f7a-92fb-50c246ca4602\">\n",
              "    <div class=\"colab-df-container\">\n",
              "      <div>\n",
              "<style scoped>\n",
              "    .dataframe tbody tr th:only-of-type {\n",
              "        vertical-align: middle;\n",
              "    }\n",
              "\n",
              "    .dataframe tbody tr th {\n",
              "        vertical-align: top;\n",
              "    }\n",
              "\n",
              "    .dataframe thead th {\n",
              "        text-align: right;\n",
              "    }\n",
              "</style>\n",
              "<table border=\"1\" class=\"dataframe\">\n",
              "  <thead>\n",
              "    <tr style=\"text-align: right;\">\n",
              "      <th></th>\n",
              "      <th>Store</th>\n",
              "      <th>Date</th>\n",
              "      <th>Weekly_Sales</th>\n",
              "      <th>Holiday_Flag</th>\n",
              "      <th>Temperature</th>\n",
              "      <th>Fuel_Price</th>\n",
              "      <th>CPI</th>\n",
              "      <th>Unemployment</th>\n",
              "    </tr>\n",
              "  </thead>\n",
              "  <tbody>\n",
              "    <tr>\n",
              "      <th>0</th>\n",
              "      <td>6.0</td>\n",
              "      <td>18-02-2011</td>\n",
              "      <td>1572117.54</td>\n",
              "      <td>NaN</td>\n",
              "      <td>59.61</td>\n",
              "      <td>3.045</td>\n",
              "      <td>214.777523</td>\n",
              "      <td>6.858</td>\n",
              "    </tr>\n",
              "    <tr>\n",
              "      <th>1</th>\n",
              "      <td>13.0</td>\n",
              "      <td>25-03-2011</td>\n",
              "      <td>1807545.43</td>\n",
              "      <td>0.0</td>\n",
              "      <td>42.38</td>\n",
              "      <td>3.435</td>\n",
              "      <td>128.616064</td>\n",
              "      <td>7.470</td>\n",
              "    </tr>\n",
              "    <tr>\n",
              "      <th>2</th>\n",
              "      <td>17.0</td>\n",
              "      <td>27-07-2012</td>\n",
              "      <td>NaN</td>\n",
              "      <td>0.0</td>\n",
              "      <td>NaN</td>\n",
              "      <td>NaN</td>\n",
              "      <td>130.719581</td>\n",
              "      <td>5.936</td>\n",
              "    </tr>\n",
              "    <tr>\n",
              "      <th>3</th>\n",
              "      <td>11.0</td>\n",
              "      <td>NaN</td>\n",
              "      <td>1244390.03</td>\n",
              "      <td>0.0</td>\n",
              "      <td>84.57</td>\n",
              "      <td>NaN</td>\n",
              "      <td>214.556497</td>\n",
              "      <td>7.346</td>\n",
              "    </tr>\n",
              "    <tr>\n",
              "      <th>4</th>\n",
              "      <td>6.0</td>\n",
              "      <td>28-05-2010</td>\n",
              "      <td>1644470.66</td>\n",
              "      <td>0.0</td>\n",
              "      <td>78.89</td>\n",
              "      <td>2.759</td>\n",
              "      <td>212.412888</td>\n",
              "      <td>7.092</td>\n",
              "    </tr>\n",
              "  </tbody>\n",
              "</table>\n",
              "</div>\n",
              "      <button class=\"colab-df-convert\" onclick=\"convertToInteractive('df-e0ccde25-982d-4f7a-92fb-50c246ca4602')\"\n",
              "              title=\"Convert this dataframe to an interactive table.\"\n",
              "              style=\"display:none;\">\n",
              "        \n",
              "  <svg xmlns=\"http://www.w3.org/2000/svg\" height=\"24px\"viewBox=\"0 0 24 24\"\n",
              "       width=\"24px\">\n",
              "    <path d=\"M0 0h24v24H0V0z\" fill=\"none\"/>\n",
              "    <path d=\"M18.56 5.44l.94 2.06.94-2.06 2.06-.94-2.06-.94-.94-2.06-.94 2.06-2.06.94zm-11 1L8.5 8.5l.94-2.06 2.06-.94-2.06-.94L8.5 2.5l-.94 2.06-2.06.94zm10 10l.94 2.06.94-2.06 2.06-.94-2.06-.94-.94-2.06-.94 2.06-2.06.94z\"/><path d=\"M17.41 7.96l-1.37-1.37c-.4-.4-.92-.59-1.43-.59-.52 0-1.04.2-1.43.59L10.3 9.45l-7.72 7.72c-.78.78-.78 2.05 0 2.83L4 21.41c.39.39.9.59 1.41.59.51 0 1.02-.2 1.41-.59l7.78-7.78 2.81-2.81c.8-.78.8-2.07 0-2.86zM5.41 20L4 18.59l7.72-7.72 1.47 1.35L5.41 20z\"/>\n",
              "  </svg>\n",
              "      </button>\n",
              "      \n",
              "  <style>\n",
              "    .colab-df-container {\n",
              "      display:flex;\n",
              "      flex-wrap:wrap;\n",
              "      gap: 12px;\n",
              "    }\n",
              "\n",
              "    .colab-df-convert {\n",
              "      background-color: #E8F0FE;\n",
              "      border: none;\n",
              "      border-radius: 50%;\n",
              "      cursor: pointer;\n",
              "      display: none;\n",
              "      fill: #1967D2;\n",
              "      height: 32px;\n",
              "      padding: 0 0 0 0;\n",
              "      width: 32px;\n",
              "    }\n",
              "\n",
              "    .colab-df-convert:hover {\n",
              "      background-color: #E2EBFA;\n",
              "      box-shadow: 0px 1px 2px rgba(60, 64, 67, 0.3), 0px 1px 3px 1px rgba(60, 64, 67, 0.15);\n",
              "      fill: #174EA6;\n",
              "    }\n",
              "\n",
              "    [theme=dark] .colab-df-convert {\n",
              "      background-color: #3B4455;\n",
              "      fill: #D2E3FC;\n",
              "    }\n",
              "\n",
              "    [theme=dark] .colab-df-convert:hover {\n",
              "      background-color: #434B5C;\n",
              "      box-shadow: 0px 1px 3px 1px rgba(0, 0, 0, 0.15);\n",
              "      filter: drop-shadow(0px 1px 2px rgba(0, 0, 0, 0.3));\n",
              "      fill: #FFFFFF;\n",
              "    }\n",
              "  </style>\n",
              "\n",
              "      <script>\n",
              "        const buttonEl =\n",
              "          document.querySelector('#df-e0ccde25-982d-4f7a-92fb-50c246ca4602 button.colab-df-convert');\n",
              "        buttonEl.style.display =\n",
              "          google.colab.kernel.accessAllowed ? 'block' : 'none';\n",
              "\n",
              "        async function convertToInteractive(key) {\n",
              "          const element = document.querySelector('#df-e0ccde25-982d-4f7a-92fb-50c246ca4602');\n",
              "          const dataTable =\n",
              "            await google.colab.kernel.invokeFunction('convertToInteractive',\n",
              "                                                     [key], {});\n",
              "          if (!dataTable) return;\n",
              "\n",
              "          const docLinkHtml = 'Like what you see? Visit the ' +\n",
              "            '<a target=\"_blank\" href=https://colab.research.google.com/notebooks/data_table.ipynb>data table notebook</a>'\n",
              "            + ' to learn more about interactive tables.';\n",
              "          element.innerHTML = '';\n",
              "          dataTable['output_type'] = 'display_data';\n",
              "          await google.colab.output.renderOutput(dataTable, element);\n",
              "          const docLink = document.createElement('div');\n",
              "          docLink.innerHTML = docLinkHtml;\n",
              "          element.appendChild(docLink);\n",
              "        }\n",
              "      </script>\n",
              "    </div>\n",
              "  </div>\n",
              "  "
            ]
          },
          "metadata": {}
        },
        {
          "output_type": "stream",
          "name": "stdout",
          "text": [
            "\n",
            "Basics statistics: \n"
          ]
        },
        {
          "output_type": "display_data",
          "data": {
            "text/plain": [
              "             Store        Date  Weekly_Sales  Holiday_Flag  Temperature  \\\n",
              "count   150.000000         132  1.360000e+02    138.000000   132.000000   \n",
              "unique         NaN          85           NaN           NaN          NaN   \n",
              "top            NaN  19-10-2012           NaN           NaN          NaN   \n",
              "freq           NaN           4           NaN           NaN          NaN   \n",
              "mean      9.866667         NaN  1.249536e+06      0.079710    61.398106   \n",
              "std       6.231191         NaN  6.474630e+05      0.271831    18.378901   \n",
              "min       1.000000         NaN  2.689290e+05      0.000000    18.790000   \n",
              "25%       4.000000         NaN  6.050757e+05      0.000000    45.587500   \n",
              "50%       9.000000         NaN  1.261424e+06      0.000000    62.985000   \n",
              "75%      15.750000         NaN  1.806386e+06      0.000000    76.345000   \n",
              "max      20.000000         NaN  2.771397e+06      1.000000    91.650000   \n",
              "\n",
              "        Fuel_Price         CPI  Unemployment  \n",
              "count   136.000000  138.000000    135.000000  \n",
              "unique         NaN         NaN           NaN  \n",
              "top            NaN         NaN           NaN  \n",
              "freq           NaN         NaN           NaN  \n",
              "mean      3.320853  179.898509      7.598430  \n",
              "std       0.478149   40.274956      1.577173  \n",
              "min       2.514000  126.111903      5.143000  \n",
              "25%       2.852250  131.970831      6.597500  \n",
              "50%       3.451000  197.908893      7.470000  \n",
              "75%       3.706250  214.934616      8.150000  \n",
              "max       4.193000  226.968844     14.313000  "
            ],
            "text/html": [
              "\n",
              "  <div id=\"df-d43d2bd1-8473-4ab8-9043-58c6932b8a46\">\n",
              "    <div class=\"colab-df-container\">\n",
              "      <div>\n",
              "<style scoped>\n",
              "    .dataframe tbody tr th:only-of-type {\n",
              "        vertical-align: middle;\n",
              "    }\n",
              "\n",
              "    .dataframe tbody tr th {\n",
              "        vertical-align: top;\n",
              "    }\n",
              "\n",
              "    .dataframe thead th {\n",
              "        text-align: right;\n",
              "    }\n",
              "</style>\n",
              "<table border=\"1\" class=\"dataframe\">\n",
              "  <thead>\n",
              "    <tr style=\"text-align: right;\">\n",
              "      <th></th>\n",
              "      <th>Store</th>\n",
              "      <th>Date</th>\n",
              "      <th>Weekly_Sales</th>\n",
              "      <th>Holiday_Flag</th>\n",
              "      <th>Temperature</th>\n",
              "      <th>Fuel_Price</th>\n",
              "      <th>CPI</th>\n",
              "      <th>Unemployment</th>\n",
              "    </tr>\n",
              "  </thead>\n",
              "  <tbody>\n",
              "    <tr>\n",
              "      <th>count</th>\n",
              "      <td>150.000000</td>\n",
              "      <td>132</td>\n",
              "      <td>1.360000e+02</td>\n",
              "      <td>138.000000</td>\n",
              "      <td>132.000000</td>\n",
              "      <td>136.000000</td>\n",
              "      <td>138.000000</td>\n",
              "      <td>135.000000</td>\n",
              "    </tr>\n",
              "    <tr>\n",
              "      <th>unique</th>\n",
              "      <td>NaN</td>\n",
              "      <td>85</td>\n",
              "      <td>NaN</td>\n",
              "      <td>NaN</td>\n",
              "      <td>NaN</td>\n",
              "      <td>NaN</td>\n",
              "      <td>NaN</td>\n",
              "      <td>NaN</td>\n",
              "    </tr>\n",
              "    <tr>\n",
              "      <th>top</th>\n",
              "      <td>NaN</td>\n",
              "      <td>19-10-2012</td>\n",
              "      <td>NaN</td>\n",
              "      <td>NaN</td>\n",
              "      <td>NaN</td>\n",
              "      <td>NaN</td>\n",
              "      <td>NaN</td>\n",
              "      <td>NaN</td>\n",
              "    </tr>\n",
              "    <tr>\n",
              "      <th>freq</th>\n",
              "      <td>NaN</td>\n",
              "      <td>4</td>\n",
              "      <td>NaN</td>\n",
              "      <td>NaN</td>\n",
              "      <td>NaN</td>\n",
              "      <td>NaN</td>\n",
              "      <td>NaN</td>\n",
              "      <td>NaN</td>\n",
              "    </tr>\n",
              "    <tr>\n",
              "      <th>mean</th>\n",
              "      <td>9.866667</td>\n",
              "      <td>NaN</td>\n",
              "      <td>1.249536e+06</td>\n",
              "      <td>0.079710</td>\n",
              "      <td>61.398106</td>\n",
              "      <td>3.320853</td>\n",
              "      <td>179.898509</td>\n",
              "      <td>7.598430</td>\n",
              "    </tr>\n",
              "    <tr>\n",
              "      <th>std</th>\n",
              "      <td>6.231191</td>\n",
              "      <td>NaN</td>\n",
              "      <td>6.474630e+05</td>\n",
              "      <td>0.271831</td>\n",
              "      <td>18.378901</td>\n",
              "      <td>0.478149</td>\n",
              "      <td>40.274956</td>\n",
              "      <td>1.577173</td>\n",
              "    </tr>\n",
              "    <tr>\n",
              "      <th>min</th>\n",
              "      <td>1.000000</td>\n",
              "      <td>NaN</td>\n",
              "      <td>2.689290e+05</td>\n",
              "      <td>0.000000</td>\n",
              "      <td>18.790000</td>\n",
              "      <td>2.514000</td>\n",
              "      <td>126.111903</td>\n",
              "      <td>5.143000</td>\n",
              "    </tr>\n",
              "    <tr>\n",
              "      <th>25%</th>\n",
              "      <td>4.000000</td>\n",
              "      <td>NaN</td>\n",
              "      <td>6.050757e+05</td>\n",
              "      <td>0.000000</td>\n",
              "      <td>45.587500</td>\n",
              "      <td>2.852250</td>\n",
              "      <td>131.970831</td>\n",
              "      <td>6.597500</td>\n",
              "    </tr>\n",
              "    <tr>\n",
              "      <th>50%</th>\n",
              "      <td>9.000000</td>\n",
              "      <td>NaN</td>\n",
              "      <td>1.261424e+06</td>\n",
              "      <td>0.000000</td>\n",
              "      <td>62.985000</td>\n",
              "      <td>3.451000</td>\n",
              "      <td>197.908893</td>\n",
              "      <td>7.470000</td>\n",
              "    </tr>\n",
              "    <tr>\n",
              "      <th>75%</th>\n",
              "      <td>15.750000</td>\n",
              "      <td>NaN</td>\n",
              "      <td>1.806386e+06</td>\n",
              "      <td>0.000000</td>\n",
              "      <td>76.345000</td>\n",
              "      <td>3.706250</td>\n",
              "      <td>214.934616</td>\n",
              "      <td>8.150000</td>\n",
              "    </tr>\n",
              "    <tr>\n",
              "      <th>max</th>\n",
              "      <td>20.000000</td>\n",
              "      <td>NaN</td>\n",
              "      <td>2.771397e+06</td>\n",
              "      <td>1.000000</td>\n",
              "      <td>91.650000</td>\n",
              "      <td>4.193000</td>\n",
              "      <td>226.968844</td>\n",
              "      <td>14.313000</td>\n",
              "    </tr>\n",
              "  </tbody>\n",
              "</table>\n",
              "</div>\n",
              "      <button class=\"colab-df-convert\" onclick=\"convertToInteractive('df-d43d2bd1-8473-4ab8-9043-58c6932b8a46')\"\n",
              "              title=\"Convert this dataframe to an interactive table.\"\n",
              "              style=\"display:none;\">\n",
              "        \n",
              "  <svg xmlns=\"http://www.w3.org/2000/svg\" height=\"24px\"viewBox=\"0 0 24 24\"\n",
              "       width=\"24px\">\n",
              "    <path d=\"M0 0h24v24H0V0z\" fill=\"none\"/>\n",
              "    <path d=\"M18.56 5.44l.94 2.06.94-2.06 2.06-.94-2.06-.94-.94-2.06-.94 2.06-2.06.94zm-11 1L8.5 8.5l.94-2.06 2.06-.94-2.06-.94L8.5 2.5l-.94 2.06-2.06.94zm10 10l.94 2.06.94-2.06 2.06-.94-2.06-.94-.94-2.06-.94 2.06-2.06.94z\"/><path d=\"M17.41 7.96l-1.37-1.37c-.4-.4-.92-.59-1.43-.59-.52 0-1.04.2-1.43.59L10.3 9.45l-7.72 7.72c-.78.78-.78 2.05 0 2.83L4 21.41c.39.39.9.59 1.41.59.51 0 1.02-.2 1.41-.59l7.78-7.78 2.81-2.81c.8-.78.8-2.07 0-2.86zM5.41 20L4 18.59l7.72-7.72 1.47 1.35L5.41 20z\"/>\n",
              "  </svg>\n",
              "      </button>\n",
              "      \n",
              "  <style>\n",
              "    .colab-df-container {\n",
              "      display:flex;\n",
              "      flex-wrap:wrap;\n",
              "      gap: 12px;\n",
              "    }\n",
              "\n",
              "    .colab-df-convert {\n",
              "      background-color: #E8F0FE;\n",
              "      border: none;\n",
              "      border-radius: 50%;\n",
              "      cursor: pointer;\n",
              "      display: none;\n",
              "      fill: #1967D2;\n",
              "      height: 32px;\n",
              "      padding: 0 0 0 0;\n",
              "      width: 32px;\n",
              "    }\n",
              "\n",
              "    .colab-df-convert:hover {\n",
              "      background-color: #E2EBFA;\n",
              "      box-shadow: 0px 1px 2px rgba(60, 64, 67, 0.3), 0px 1px 3px 1px rgba(60, 64, 67, 0.15);\n",
              "      fill: #174EA6;\n",
              "    }\n",
              "\n",
              "    [theme=dark] .colab-df-convert {\n",
              "      background-color: #3B4455;\n",
              "      fill: #D2E3FC;\n",
              "    }\n",
              "\n",
              "    [theme=dark] .colab-df-convert:hover {\n",
              "      background-color: #434B5C;\n",
              "      box-shadow: 0px 1px 3px 1px rgba(0, 0, 0, 0.15);\n",
              "      filter: drop-shadow(0px 1px 2px rgba(0, 0, 0, 0.3));\n",
              "      fill: #FFFFFF;\n",
              "    }\n",
              "  </style>\n",
              "\n",
              "      <script>\n",
              "        const buttonEl =\n",
              "          document.querySelector('#df-d43d2bd1-8473-4ab8-9043-58c6932b8a46 button.colab-df-convert');\n",
              "        buttonEl.style.display =\n",
              "          google.colab.kernel.accessAllowed ? 'block' : 'none';\n",
              "\n",
              "        async function convertToInteractive(key) {\n",
              "          const element = document.querySelector('#df-d43d2bd1-8473-4ab8-9043-58c6932b8a46');\n",
              "          const dataTable =\n",
              "            await google.colab.kernel.invokeFunction('convertToInteractive',\n",
              "                                                     [key], {});\n",
              "          if (!dataTable) return;\n",
              "\n",
              "          const docLinkHtml = 'Like what you see? Visit the ' +\n",
              "            '<a target=\"_blank\" href=https://colab.research.google.com/notebooks/data_table.ipynb>data table notebook</a>'\n",
              "            + ' to learn more about interactive tables.';\n",
              "          element.innerHTML = '';\n",
              "          dataTable['output_type'] = 'display_data';\n",
              "          await google.colab.output.renderOutput(dataTable, element);\n",
              "          const docLink = document.createElement('div');\n",
              "          docLink.innerHTML = docLinkHtml;\n",
              "          element.appendChild(docLink);\n",
              "        }\n",
              "      </script>\n",
              "    </div>\n",
              "  </div>\n",
              "  "
            ]
          },
          "metadata": {}
        },
        {
          "output_type": "stream",
          "name": "stdout",
          "text": [
            "\n",
            "Percentage of missing values: \n"
          ]
        },
        {
          "output_type": "display_data",
          "data": {
            "text/plain": [
              "Store            0.000000\n",
              "Date            12.000000\n",
              "Weekly_Sales     9.333333\n",
              "Holiday_Flag     8.000000\n",
              "Temperature     12.000000\n",
              "Fuel_Price       9.333333\n",
              "CPI              8.000000\n",
              "Unemployment    10.000000\n",
              "dtype: float64"
            ]
          },
          "metadata": {}
        }
      ],
      "source": [
        "print(f\"Number of rows : {df.shape[0]}\")\n",
        "print()\n",
        "\n",
        "print(\"Display of dataset: \")\n",
        "display(df.head())\n",
        "print()\n",
        "\n",
        "print(\"Basics statistics: \")\n",
        "data_desc = df.describe(include='all')\n",
        "display(data_desc)\n",
        "print()\n",
        "\n",
        "print(\"Percentage of missing values: \")\n",
        "display(100*df.isnull().sum()/df.shape[0])"
      ]
    },
    {
      "cell_type": "markdown",
      "id": "42834bbd-3951-4b6d-afa8-2883d8e3891f",
      "metadata": {
        "id": "42834bbd-3951-4b6d-afa8-2883d8e3891f"
      },
      "source": [
        "### Dropping lines where target values are missing"
      ]
    },
    {
      "cell_type": "code",
      "execution_count": null,
      "id": "3a59f6c8-655b-4cf0-8b03-6bd12baa4ed1",
      "metadata": {
        "colab": {
          "base_uri": "https://localhost:8080/"
        },
        "id": "3a59f6c8-655b-4cf0-8b03-6bd12baa4ed1",
        "outputId": "3f502c5c-27b8-4cfa-90cd-792a6f466dc3"
      },
      "outputs": [
        {
          "output_type": "stream",
          "name": "stdout",
          "text": [
            "number of rows before removing missing values in label column : 150\n",
            "number of rows after removing missing values in label column : 136\n"
          ]
        }
      ],
      "source": [
        "print(f\"number of rows before removing missing values in label column : {df.shape[0]}\")\n",
        "df.dropna(subset=['Weekly_Sales'], inplace=True)\n",
        "print(f\"number of rows after removing missing values in label column : {df.shape[0]}\")"
      ]
    },
    {
      "cell_type": "markdown",
      "id": "f0f2b628-3cf9-4747-8f05-9eb4e6cd78d7",
      "metadata": {
        "id": "f0f2b628-3cf9-4747-8f05-9eb4e6cd78d7"
      },
      "source": [
        "### Create usable features from the Date column"
      ]
    },
    {
      "cell_type": "code",
      "execution_count": null,
      "id": "ced05c4b-4ae8-41a4-86e3-22350f26a224",
      "metadata": {
        "colab": {
          "base_uri": "https://localhost:8080/",
          "height": 238
        },
        "id": "ced05c4b-4ae8-41a4-86e3-22350f26a224",
        "outputId": "23c3c06d-4a4c-4e1d-f0cc-0cebbf35cc2f"
      },
      "outputs": [
        {
          "output_type": "execute_result",
          "data": {
            "text/plain": [
              "            Store  Weekly_Sales  Holiday_Flag  Temperature  Fuel_Price  \\\n",
              "Date                                                                     \n",
              "2010-02-05    3.0     461622.22           0.0        45.71       2.572   \n",
              "2010-02-12    1.0    1641957.44           1.0        38.51       2.548   \n",
              "2010-02-12    8.0     994801.40           1.0        33.34       2.548   \n",
              "2010-02-19   15.0     660838.75           0.0          NaN       2.909   \n",
              "2010-02-19    2.0    2124451.54           0.0        39.69       2.514   \n",
              "\n",
              "                   CPI  Unemployment   Day  Month    Year  Day_of_week  \n",
              "Date                                                                    \n",
              "2010-02-05  214.424881         7.368   5.0    2.0  2010.0          4.0  \n",
              "2010-02-12  211.242170         8.106  12.0    2.0  2010.0          4.0  \n",
              "2010-02-12  214.621419         6.299  12.0    2.0  2010.0          4.0  \n",
              "2010-02-19  131.637000           NaN  19.0    2.0  2010.0          4.0  \n",
              "2010-02-19  210.945160           NaN  19.0    2.0  2010.0          4.0  "
            ],
            "text/html": [
              "\n",
              "  <div id=\"df-8bb77677-8350-4d9c-a63c-caa3279aa071\">\n",
              "    <div class=\"colab-df-container\">\n",
              "      <div>\n",
              "<style scoped>\n",
              "    .dataframe tbody tr th:only-of-type {\n",
              "        vertical-align: middle;\n",
              "    }\n",
              "\n",
              "    .dataframe tbody tr th {\n",
              "        vertical-align: top;\n",
              "    }\n",
              "\n",
              "    .dataframe thead th {\n",
              "        text-align: right;\n",
              "    }\n",
              "</style>\n",
              "<table border=\"1\" class=\"dataframe\">\n",
              "  <thead>\n",
              "    <tr style=\"text-align: right;\">\n",
              "      <th></th>\n",
              "      <th>Store</th>\n",
              "      <th>Weekly_Sales</th>\n",
              "      <th>Holiday_Flag</th>\n",
              "      <th>Temperature</th>\n",
              "      <th>Fuel_Price</th>\n",
              "      <th>CPI</th>\n",
              "      <th>Unemployment</th>\n",
              "      <th>Day</th>\n",
              "      <th>Month</th>\n",
              "      <th>Year</th>\n",
              "      <th>Day_of_week</th>\n",
              "    </tr>\n",
              "    <tr>\n",
              "      <th>Date</th>\n",
              "      <th></th>\n",
              "      <th></th>\n",
              "      <th></th>\n",
              "      <th></th>\n",
              "      <th></th>\n",
              "      <th></th>\n",
              "      <th></th>\n",
              "      <th></th>\n",
              "      <th></th>\n",
              "      <th></th>\n",
              "      <th></th>\n",
              "    </tr>\n",
              "  </thead>\n",
              "  <tbody>\n",
              "    <tr>\n",
              "      <th>2010-02-05</th>\n",
              "      <td>3.0</td>\n",
              "      <td>461622.22</td>\n",
              "      <td>0.0</td>\n",
              "      <td>45.71</td>\n",
              "      <td>2.572</td>\n",
              "      <td>214.424881</td>\n",
              "      <td>7.368</td>\n",
              "      <td>5.0</td>\n",
              "      <td>2.0</td>\n",
              "      <td>2010.0</td>\n",
              "      <td>4.0</td>\n",
              "    </tr>\n",
              "    <tr>\n",
              "      <th>2010-02-12</th>\n",
              "      <td>1.0</td>\n",
              "      <td>1641957.44</td>\n",
              "      <td>1.0</td>\n",
              "      <td>38.51</td>\n",
              "      <td>2.548</td>\n",
              "      <td>211.242170</td>\n",
              "      <td>8.106</td>\n",
              "      <td>12.0</td>\n",
              "      <td>2.0</td>\n",
              "      <td>2010.0</td>\n",
              "      <td>4.0</td>\n",
              "    </tr>\n",
              "    <tr>\n",
              "      <th>2010-02-12</th>\n",
              "      <td>8.0</td>\n",
              "      <td>994801.40</td>\n",
              "      <td>1.0</td>\n",
              "      <td>33.34</td>\n",
              "      <td>2.548</td>\n",
              "      <td>214.621419</td>\n",
              "      <td>6.299</td>\n",
              "      <td>12.0</td>\n",
              "      <td>2.0</td>\n",
              "      <td>2010.0</td>\n",
              "      <td>4.0</td>\n",
              "    </tr>\n",
              "    <tr>\n",
              "      <th>2010-02-19</th>\n",
              "      <td>15.0</td>\n",
              "      <td>660838.75</td>\n",
              "      <td>0.0</td>\n",
              "      <td>NaN</td>\n",
              "      <td>2.909</td>\n",
              "      <td>131.637000</td>\n",
              "      <td>NaN</td>\n",
              "      <td>19.0</td>\n",
              "      <td>2.0</td>\n",
              "      <td>2010.0</td>\n",
              "      <td>4.0</td>\n",
              "    </tr>\n",
              "    <tr>\n",
              "      <th>2010-02-19</th>\n",
              "      <td>2.0</td>\n",
              "      <td>2124451.54</td>\n",
              "      <td>0.0</td>\n",
              "      <td>39.69</td>\n",
              "      <td>2.514</td>\n",
              "      <td>210.945160</td>\n",
              "      <td>NaN</td>\n",
              "      <td>19.0</td>\n",
              "      <td>2.0</td>\n",
              "      <td>2010.0</td>\n",
              "      <td>4.0</td>\n",
              "    </tr>\n",
              "  </tbody>\n",
              "</table>\n",
              "</div>\n",
              "      <button class=\"colab-df-convert\" onclick=\"convertToInteractive('df-8bb77677-8350-4d9c-a63c-caa3279aa071')\"\n",
              "              title=\"Convert this dataframe to an interactive table.\"\n",
              "              style=\"display:none;\">\n",
              "        \n",
              "  <svg xmlns=\"http://www.w3.org/2000/svg\" height=\"24px\"viewBox=\"0 0 24 24\"\n",
              "       width=\"24px\">\n",
              "    <path d=\"M0 0h24v24H0V0z\" fill=\"none\"/>\n",
              "    <path d=\"M18.56 5.44l.94 2.06.94-2.06 2.06-.94-2.06-.94-.94-2.06-.94 2.06-2.06.94zm-11 1L8.5 8.5l.94-2.06 2.06-.94-2.06-.94L8.5 2.5l-.94 2.06-2.06.94zm10 10l.94 2.06.94-2.06 2.06-.94-2.06-.94-.94-2.06-.94 2.06-2.06.94z\"/><path d=\"M17.41 7.96l-1.37-1.37c-.4-.4-.92-.59-1.43-.59-.52 0-1.04.2-1.43.59L10.3 9.45l-7.72 7.72c-.78.78-.78 2.05 0 2.83L4 21.41c.39.39.9.59 1.41.59.51 0 1.02-.2 1.41-.59l7.78-7.78 2.81-2.81c.8-.78.8-2.07 0-2.86zM5.41 20L4 18.59l7.72-7.72 1.47 1.35L5.41 20z\"/>\n",
              "  </svg>\n",
              "      </button>\n",
              "      \n",
              "  <style>\n",
              "    .colab-df-container {\n",
              "      display:flex;\n",
              "      flex-wrap:wrap;\n",
              "      gap: 12px;\n",
              "    }\n",
              "\n",
              "    .colab-df-convert {\n",
              "      background-color: #E8F0FE;\n",
              "      border: none;\n",
              "      border-radius: 50%;\n",
              "      cursor: pointer;\n",
              "      display: none;\n",
              "      fill: #1967D2;\n",
              "      height: 32px;\n",
              "      padding: 0 0 0 0;\n",
              "      width: 32px;\n",
              "    }\n",
              "\n",
              "    .colab-df-convert:hover {\n",
              "      background-color: #E2EBFA;\n",
              "      box-shadow: 0px 1px 2px rgba(60, 64, 67, 0.3), 0px 1px 3px 1px rgba(60, 64, 67, 0.15);\n",
              "      fill: #174EA6;\n",
              "    }\n",
              "\n",
              "    [theme=dark] .colab-df-convert {\n",
              "      background-color: #3B4455;\n",
              "      fill: #D2E3FC;\n",
              "    }\n",
              "\n",
              "    [theme=dark] .colab-df-convert:hover {\n",
              "      background-color: #434B5C;\n",
              "      box-shadow: 0px 1px 3px 1px rgba(0, 0, 0, 0.15);\n",
              "      filter: drop-shadow(0px 1px 2px rgba(0, 0, 0, 0.3));\n",
              "      fill: #FFFFFF;\n",
              "    }\n",
              "  </style>\n",
              "\n",
              "      <script>\n",
              "        const buttonEl =\n",
              "          document.querySelector('#df-8bb77677-8350-4d9c-a63c-caa3279aa071 button.colab-df-convert');\n",
              "        buttonEl.style.display =\n",
              "          google.colab.kernel.accessAllowed ? 'block' : 'none';\n",
              "\n",
              "        async function convertToInteractive(key) {\n",
              "          const element = document.querySelector('#df-8bb77677-8350-4d9c-a63c-caa3279aa071');\n",
              "          const dataTable =\n",
              "            await google.colab.kernel.invokeFunction('convertToInteractive',\n",
              "                                                     [key], {});\n",
              "          if (!dataTable) return;\n",
              "\n",
              "          const docLinkHtml = 'Like what you see? Visit the ' +\n",
              "            '<a target=\"_blank\" href=https://colab.research.google.com/notebooks/data_table.ipynb>data table notebook</a>'\n",
              "            + ' to learn more about interactive tables.';\n",
              "          element.innerHTML = '';\n",
              "          dataTable['output_type'] = 'display_data';\n",
              "          await google.colab.output.renderOutput(dataTable, element);\n",
              "          const docLink = document.createElement('div');\n",
              "          docLink.innerHTML = docLinkHtml;\n",
              "          element.appendChild(docLink);\n",
              "        }\n",
              "      </script>\n",
              "    </div>\n",
              "  </div>\n",
              "  "
            ]
          },
          "metadata": {},
          "execution_count": 7
        }
      ],
      "source": [
        "df['Date'] = pd.to_datetime(df['Date'], format='%d-%m-%Y')\n",
        "df['Day'] = df['Date'].apply(lambda x: x.day)\n",
        "df['Month'] = df['Date'].apply(lambda x: x.month)\n",
        "df['Year'] = df['Date'].apply(lambda x: x.year)\n",
        "df['Day_of_week'] = df['Date'].apply(lambda x: x.weekday())\n",
        "df.set_index('Date', inplace=True)\n",
        "df.sort_index(inplace=True)\n",
        "df.head()"
      ]
    },
    {
      "cell_type": "code",
      "execution_count": null,
      "id": "968b89b7",
      "metadata": {
        "colab": {
          "base_uri": "https://localhost:8080/",
          "height": 320
        },
        "id": "968b89b7",
        "outputId": "6ae77fca-67c4-45ba-cb6d-19b935dd9093"
      },
      "outputs": [
        {
          "output_type": "execute_result",
          "data": {
            "text/plain": [
              "<matplotlib.axes._subplots.AxesSubplot at 0x7f5cbabd6d00>"
            ]
          },
          "metadata": {},
          "execution_count": 8
        },
        {
          "output_type": "display_data",
          "data": {
            "text/plain": [
              "<Figure size 432x288 with 1 Axes>"
            ],
            "image/png": "[encoded data removed]"
          },
          "metadata": {
            "needs_background": "light"
          }
        }
      ],
      "source": [
        "df.groupby(['Store'])['Weekly_Sales'].mean().plot.bar()"
      ]
    },
    {
      "cell_type": "code",
      "execution_count": null,
      "id": "50b359fb-1f34-4316-8d29-93bf96f7fe5f",
      "metadata": {
        "colab": {
          "base_uri": "https://localhost:8080/"
        },
        "id": "50b359fb-1f34-4316-8d29-93bf96f7fe5f",
        "outputId": "5cef3343-7dfa-408a-ba38-1ba7165bea63"
      },
      "outputs": [
        {
          "output_type": "execute_result",
          "data": {
            "text/plain": [
              "4.0    118\n",
              "Name: Day_of_week, dtype: int64"
            ]
          },
          "metadata": {},
          "execution_count": 9
        }
      ],
      "source": [
        "df['Day_of_week'].value_counts()"
      ]
    },
    {
      "cell_type": "code",
      "execution_count": null,
      "id": "27c1cb07-748c-4364-88b0-e17517426341",
      "metadata": {
        "id": "27c1cb07-748c-4364-88b0-e17517426341"
      },
      "outputs": [],
      "source": [
        "# All dayweeks are friday so let's drop this column\n",
        "df = df.drop('Day_of_week', axis=1)"
      ]
    },
    {
      "cell_type": "markdown",
      "id": "aa95d637-2f05-43a3-a475-0d5d702e711b",
      "metadata": {
        "id": "aa95d637-2f05-43a3-a475-0d5d702e711b"
      },
      "source": [
        "### Dropping lines containing invalid values or outliers"
      ]
    },
    {
      "cell_type": "code",
      "execution_count": null,
      "id": "59eb6dde-e9e1-457c-9890-df6ef2b35fd3",
      "metadata": {
        "colab": {
          "base_uri": "https://localhost:8080/"
        },
        "id": "59eb6dde-e9e1-457c-9890-df6ef2b35fd3",
        "outputId": "3158f490-7504-4ea3-ce26-24c6e89c8fc5"
      },
      "outputs": [
        {
          "output_type": "stream",
          "name": "stdout",
          "text": [
            "number of rows before removing invalid values or outliers : 136\n",
            "number of rows after removing invalid values or outliers : 131\n"
          ]
        }
      ],
      "source": [
        "print(f\"number of rows before removing invalid values or outliers : {df.shape[0]}\")\n",
        "for col in ['Temperature', 'Fuel_Price', 'CPI', 'Unemployment']:\n",
        "    mask = (df[col] < df[col].mean() + 3*df[col].std()) & (df[col] > df[col].mean() - 3*df[col].std()) | (df[col].isnull())\n",
        "    df = df[mask]\n",
        "df.reset_index(drop = True, inplace=True)\n",
        "print(f\"number of rows after removing invalid values or outliers : {df.shape[0]}\")"
      ]
    },
    {
      "cell_type": "markdown",
      "id": "04838fd1",
      "metadata": {
        "id": "04838fd1"
      },
      "source": [
        "### Visualization of correlation or pairwise dependencies between variables"
      ]
    },
    {
      "cell_type": "code",
      "execution_count": null,
      "id": "45fd4dab",
      "metadata": {
        "colab": {
          "base_uri": "https://localhost:8080/",
          "height": 542
        },
        "id": "45fd4dab",
        "outputId": "31445cc5-2776-45b2-f64d-7b807ed63e1b"
      },
      "outputs": [
        {
          "output_type": "display_data",
          "data": {
            "text/html": [
              "<html>\n",
              "<head><meta charset=\"utf-8\" /></head>\n",
              "<body>\n",
              "    <div>            <script src=\"https://cdnjs.cloudflare.com/ajax/libs/mathjax/2.7.5/MathJax.js?config=TeX-AMS-MML_SVG\"></script><script type=\"text/javascript\">if (window.MathJax) {MathJax.Hub.Config({SVG: {font: \"STIX-Web\"}});}</script>                <script type=\"text/javascript\">window.PlotlyConfig = {MathJaxConfig: 'local'};</script>\n",
              "        <script src=\"https://cdn.plot.ly/plotly-2.8.3.min.js\"></script>                <div id=\"613a90eb-ff98-408a-828c-baabef0a2f96\" class=\"plotly-graph-div\" style=\"height:525px; width:100%;\"></div>            <script type=\"text/javascript\">                                    window.PLOTLYENV=window.PLOTLYENV || {};                                    if (document.getElementById(\"613a90eb-ff98-408a-828c-baabef0a2f96\")) {                    Plotly.newPlot(                        \"613a90eb-ff98-408a-828c-baabef0a2f96\",                        [{\"colorscale\":[[0.0,\"#0d0887\"],[0.1111111111111111,\"#46039f\"],[0.2222222222222222,\"#7201a8\"],[0.3333333333333333,\"#9c179e\"],[0.4444444444444444,\"#bd3786\"],[0.5555555555555556,\"#d8576b\"],[0.6666666666666666,\"#ed7953\"],[0.7777777777777778,\"#fb9f3a\"],[0.8888888888888888,\"#fdca26\"],[1.0,\"#f0f921\"]],\"reversescale\":false,\"showscale\":false,\"x\":[\"Store\",\"Weekly_Sales\",\"Holiday_Flag\",\"Temperature\",\"Fuel_Price\",\"CPI\",\"Unemployment\",\"Day\",\"Month\",\"Year\"],\"y\":[\"Store\",\"Weekly_Sales\",\"Holiday_Flag\",\"Temperature\",\"Fuel_Price\",\"CPI\",\"Unemployment\",\"Day\",\"Month\",\"Year\"],\"z\":[[1.0,0.12,-0.07,-0.27,0.17,-0.62,0.28,-0.04,-0.03,-0.03],[0.12,1.0,0.05,-0.16,-0.01,-0.31,0.19,-0.04,-0.01,-0.04],[-0.07,0.05,1.0,-0.29,-0.14,0.2,0.06,-0.03,-0.05,0.0],[-0.27,-0.16,-0.29,1.0,0.02,0.15,-0.17,0.11,0.26,-0.16],[0.17,-0.01,-0.14,0.02,1.0,-0.14,-0.04,-0.05,-0.12,0.83],[-0.62,-0.31,0.2,0.15,-0.14,1.0,-0.25,0.17,-0.01,-0.02],[0.28,0.19,0.06,-0.17,-0.04,-0.25,1.0,-0.03,-0.12,-0.17],[-0.04,-0.04,-0.03,0.11,-0.05,0.17,-0.03,1.0,-0.02,-0.13],[-0.03,-0.01,-0.05,0.26,-0.12,-0.01,-0.12,-0.02,1.0,-0.23],[-0.03,-0.04,0.0,-0.16,0.83,-0.02,-0.17,-0.13,-0.23,1.0]],\"type\":\"heatmap\"}],                        {\"annotations\":[{\"font\":{\"color\":\"#000000\"},\"showarrow\":false,\"text\":\"1.0\",\"x\":\"Store\",\"xref\":\"x\",\"y\":\"Store\",\"yref\":\"y\"},{\"font\":{\"color\":\"#FFFFFF\"},\"showarrow\":false,\"text\":\"0.12\",\"x\":\"Weekly_Sales\",\"xref\":\"x\",\"y\":\"Store\",\"yref\":\"y\"},{\"font\":{\"color\":\"#FFFFFF\"},\"showarrow\":false,\"text\":\"-0.07\",\"x\":\"Holiday_Flag\",\"xref\":\"x\",\"y\":\"Store\",\"yref\":\"y\"},{\"font\":{\"color\":\"#FFFFFF\"},\"showarrow\":false,\"text\":\"-0.27\",\"x\":\"Temperature\",\"xref\":\"x\",\"y\":\"Store\",\"yref\":\"y\"},{\"font\":{\"color\":\"#FFFFFF\"},\"showarrow\":false,\"text\":\"0.17\",\"x\":\"Fuel_Price\",\"xref\":\"x\",\"y\":\"Store\",\"yref\":\"y\"},{\"font\":{\"color\":\"#FFFFFF\"},\"showarrow\":false,\"text\":\"-0.62\",\"x\":\"CPI\",\"xref\":\"x\",\"y\":\"Store\",\"yref\":\"y\"},{\"font\":{\"color\":\"#000000\"},\"showarrow\":false,\"text\":\"0.28\",\"x\":\"Unemployment\",\"xref\":\"x\",\"y\":\"Store\",\"yref\":\"y\"},{\"font\":{\"color\":\"#FFFFFF\"},\"showarrow\":false,\"text\":\"-0.04\",\"x\":\"Day\",\"xref\":\"x\",\"y\":\"Store\",\"yref\":\"y\"},{\"font\":{\"color\":\"#FFFFFF\"},\"showarrow\":false,\"text\":\"-0.03\",\"x\":\"Month\",\"xref\":\"x\",\"y\":\"Store\",\"yref\":\"y\"},{\"font\":{\"color\":\"#FFFFFF\"},\"showarrow\":false,\"text\":\"-0.03\",\"x\":\"Year\",\"xref\":\"x\",\"y\":\"Store\",\"yref\":\"y\"},{\"font\":{\"color\":\"#FFFFFF\"},\"showarrow\":false,\"text\":\"0.12\",\"x\":\"Store\",\"xref\":\"x\",\"y\":\"Weekly_Sales\",\"yref\":\"y\"},{\"font\":{\"color\":\"#000000\"},\"showarrow\":false,\"text\":\"1.0\",\"x\":\"Weekly_Sales\",\"xref\":\"x\",\"y\":\"Weekly_Sales\",\"yref\":\"y\"},{\"font\":{\"color\":\"#FFFFFF\"},\"showarrow\":false,\"text\":\"0.05\",\"x\":\"Holiday_Flag\",\"xref\":\"x\",\"y\":\"Weekly_Sales\",\"yref\":\"y\"},{\"font\":{\"color\":\"#FFFFFF\"},\"showarrow\":false,\"text\":\"-0.16\",\"x\":\"Temperature\",\"xref\":\"x\",\"y\":\"Weekly_Sales\",\"yref\":\"y\"},{\"font\":{\"color\":\"#FFFFFF\"},\"showarrow\":false,\"text\":\"-0.01\",\"x\":\"Fuel_Price\",\"xref\":\"x\",\"y\":\"Weekly_Sales\",\"yref\":\"y\"},{\"font\":{\"color\":\"#FFFFFF\"},\"showarrow\":false,\"text\":\"-0.31\",\"x\":\"CPI\",\"xref\":\"x\",\"y\":\"Weekly_Sales\",\"yref\":\"y\"},{\"font\":{\"color\":\"#000000\"},\"showarrow\":false,\"text\":\"0.19\",\"x\":\"Unemployment\",\"xref\":\"x\",\"y\":\"Weekly_Sales\",\"yref\":\"y\"},{\"font\":{\"color\":\"#FFFFFF\"},\"showarrow\":false,\"text\":\"-0.04\",\"x\":\"Day\",\"xref\":\"x\",\"y\":\"Weekly_Sales\",\"yref\":\"y\"},{\"font\":{\"color\":\"#FFFFFF\"},\"showarrow\":false,\"text\":\"-0.01\",\"x\":\"Month\",\"xref\":\"x\",\"y\":\"Weekly_Sales\",\"yref\":\"y\"},{\"font\":{\"color\":\"#FFFFFF\"},\"showarrow\":false,\"text\":\"-0.04\",\"x\":\"Year\",\"xref\":\"x\",\"y\":\"Weekly_Sales\",\"yref\":\"y\"},{\"font\":{\"color\":\"#FFFFFF\"},\"showarrow\":false,\"text\":\"-0.07\",\"x\":\"Store\",\"xref\":\"x\",\"y\":\"Holiday_Flag\",\"yref\":\"y\"},{\"font\":{\"color\":\"#FFFFFF\"},\"showarrow\":false,\"text\":\"0.05\",\"x\":\"Weekly_Sales\",\"xref\":\"x\",\"y\":\"Holiday_Flag\",\"yref\":\"y\"},{\"font\":{\"color\":\"#000000\"},\"showarrow\":false,\"text\":\"1.0\",\"x\":\"Holiday_Flag\",\"xref\":\"x\",\"y\":\"Holiday_Flag\",\"yref\":\"y\"},{\"font\":{\"color\":\"#FFFFFF\"},\"showarrow\":false,\"text\":\"-0.29\",\"x\":\"Temperature\",\"xref\":\"x\",\"y\":\"Holiday_Flag\",\"yref\":\"y\"},{\"font\":{\"color\":\"#FFFFFF\"},\"showarrow\":false,\"text\":\"-0.14\",\"x\":\"Fuel_Price\",\"xref\":\"x\",\"y\":\"Holiday_Flag\",\"yref\":\"y\"},{\"font\":{\"color\":\"#000000\"},\"showarrow\":false,\"text\":\"0.2\",\"x\":\"CPI\",\"xref\":\"x\",\"y\":\"Holiday_Flag\",\"yref\":\"y\"},{\"font\":{\"color\":\"#FFFFFF\"},\"showarrow\":false,\"text\":\"0.06\",\"x\":\"Unemployment\",\"xref\":\"x\",\"y\":\"Holiday_Flag\",\"yref\":\"y\"},{\"font\":{\"color\":\"#FFFFFF\"},\"showarrow\":false,\"text\":\"-0.03\",\"x\":\"Day\",\"xref\":\"x\",\"y\":\"Holiday_Flag\",\"yref\":\"y\"},{\"font\":{\"color\":\"#FFFFFF\"},\"showarrow\":false,\"text\":\"-0.05\",\"x\":\"Month\",\"xref\":\"x\",\"y\":\"Holiday_Flag\",\"yref\":\"y\"},{\"font\":{\"color\":\"#FFFFFF\"},\"showarrow\":false,\"text\":\"0.0\",\"x\":\"Year\",\"xref\":\"x\",\"y\":\"Holiday_Flag\",\"yref\":\"y\"},{\"font\":{\"color\":\"#FFFFFF\"},\"showarrow\":false,\"text\":\"-0.27\",\"x\":\"Store\",\"xref\":\"x\",\"y\":\"Temperature\",\"yref\":\"y\"},{\"font\":{\"color\":\"#FFFFFF\"},\"showarrow\":false,\"text\":\"-0.16\",\"x\":\"Weekly_Sales\",\"xref\":\"x\",\"y\":\"Temperature\",\"yref\":\"y\"},{\"font\":{\"color\":\"#FFFFFF\"},\"showarrow\":false,\"text\":\"-0.29\",\"x\":\"Holiday_Flag\",\"xref\":\"x\",\"y\":\"Temperature\",\"yref\":\"y\"},{\"font\":{\"color\":\"#000000\"},\"showarrow\":false,\"text\":\"1.0\",\"x\":\"Temperature\",\"xref\":\"x\",\"y\":\"Temperature\",\"yref\":\"y\"},{\"font\":{\"color\":\"#FFFFFF\"},\"showarrow\":false,\"text\":\"0.02\",\"x\":\"Fuel_Price\",\"xref\":\"x\",\"y\":\"Temperature\",\"yref\":\"y\"},{\"font\":{\"color\":\"#FFFFFF\"},\"showarrow\":false,\"text\":\"0.15\",\"x\":\"CPI\",\"xref\":\"x\",\"y\":\"Temperature\",\"yref\":\"y\"},{\"font\":{\"color\":\"#FFFFFF\"},\"showarrow\":false,\"text\":\"-0.17\",\"x\":\"Unemployment\",\"xref\":\"x\",\"y\":\"Temperature\",\"yref\":\"y\"},{\"font\":{\"color\":\"#FFFFFF\"},\"showarrow\":false,\"text\":\"0.11\",\"x\":\"Day\",\"xref\":\"x\",\"y\":\"Temperature\",\"yref\":\"y\"},{\"font\":{\"color\":\"#000000\"},\"showarrow\":false,\"text\":\"0.26\",\"x\":\"Month\",\"xref\":\"x\",\"y\":\"Temperature\",\"yref\":\"y\"},{\"font\":{\"color\":\"#FFFFFF\"},\"showarrow\":false,\"text\":\"-0.16\",\"x\":\"Year\",\"xref\":\"x\",\"y\":\"Temperature\",\"yref\":\"y\"},{\"font\":{\"color\":\"#FFFFFF\"},\"showarrow\":false,\"text\":\"0.17\",\"x\":\"Store\",\"xref\":\"x\",\"y\":\"Fuel_Price\",\"yref\":\"y\"},{\"font\":{\"color\":\"#FFFFFF\"},\"showarrow\":false,\"text\":\"-0.01\",\"x\":\"Weekly_Sales\",\"xref\":\"x\",\"y\":\"Fuel_Price\",\"yref\":\"y\"},{\"font\":{\"color\":\"#FFFFFF\"},\"showarrow\":false,\"text\":\"-0.14\",\"x\":\"Holiday_Flag\",\"xref\":\"x\",\"y\":\"Fuel_Price\",\"yref\":\"y\"},{\"font\":{\"color\":\"#FFFFFF\"},\"showarrow\":false,\"text\":\"0.02\",\"x\":\"Temperature\",\"xref\":\"x\",\"y\":\"Fuel_Price\",\"yref\":\"y\"},{\"font\":{\"color\":\"#000000\"},\"showarrow\":false,\"text\":\"1.0\",\"x\":\"Fuel_Price\",\"xref\":\"x\",\"y\":\"Fuel_Price\",\"yref\":\"y\"},{\"font\":{\"color\":\"#FFFFFF\"},\"showarrow\":false,\"text\":\"-0.14\",\"x\":\"CPI\",\"xref\":\"x\",\"y\":\"Fuel_Price\",\"yref\":\"y\"},{\"font\":{\"color\":\"#FFFFFF\"},\"showarrow\":false,\"text\":\"-0.04\",\"x\":\"Unemployment\",\"xref\":\"x\",\"y\":\"Fuel_Price\",\"yref\":\"y\"},{\"font\":{\"color\":\"#FFFFFF\"},\"showarrow\":false,\"text\":\"-0.05\",\"x\":\"Day\",\"xref\":\"x\",\"y\":\"Fuel_Price\",\"yref\":\"y\"},{\"font\":{\"color\":\"#FFFFFF\"},\"showarrow\":false,\"text\":\"-0.12\",\"x\":\"Month\",\"xref\":\"x\",\"y\":\"Fuel_Price\",\"yref\":\"y\"},{\"font\":{\"color\":\"#000000\"},\"showarrow\":false,\"text\":\"0.83\",\"x\":\"Year\",\"xref\":\"x\",\"y\":\"Fuel_Price\",\"yref\":\"y\"},{\"font\":{\"color\":\"#FFFFFF\"},\"showarrow\":false,\"text\":\"-0.62\",\"x\":\"Store\",\"xref\":\"x\",\"y\":\"CPI\",\"yref\":\"y\"},{\"font\":{\"color\":\"#FFFFFF\"},\"showarrow\":false,\"text\":\"-0.31\",\"x\":\"Weekly_Sales\",\"xref\":\"x\",\"y\":\"CPI\",\"yref\":\"y\"},{\"font\":{\"color\":\"#000000\"},\"showarrow\":false,\"text\":\"0.2\",\"x\":\"Holiday_Flag\",\"xref\":\"x\",\"y\":\"CPI\",\"yref\":\"y\"},{\"font\":{\"color\":\"#FFFFFF\"},\"showarrow\":false,\"text\":\"0.15\",\"x\":\"Temperature\",\"xref\":\"x\",\"y\":\"CPI\",\"yref\":\"y\"},{\"font\":{\"color\":\"#FFFFFF\"},\"showarrow\":false,\"text\":\"-0.14\",\"x\":\"Fuel_Price\",\"xref\":\"x\",\"y\":\"CPI\",\"yref\":\"y\"},{\"font\":{\"color\":\"#000000\"},\"showarrow\":false,\"text\":\"1.0\",\"x\":\"CPI\",\"xref\":\"x\",\"y\":\"CPI\",\"yref\":\"y\"},{\"font\":{\"color\":\"#FFFFFF\"},\"showarrow\":false,\"text\":\"-0.25\",\"x\":\"Unemployment\",\"xref\":\"x\",\"y\":\"CPI\",\"yref\":\"y\"},{\"font\":{\"color\":\"#FFFFFF\"},\"showarrow\":false,\"text\":\"0.17\",\"x\":\"Day\",\"xref\":\"x\",\"y\":\"CPI\",\"yref\":\"y\"},{\"font\":{\"color\":\"#FFFFFF\"},\"showarrow\":false,\"text\":\"-0.01\",\"x\":\"Month\",\"xref\":\"x\",\"y\":\"CPI\",\"yref\":\"y\"},{\"font\":{\"color\":\"#FFFFFF\"},\"showarrow\":false,\"text\":\"-0.02\",\"x\":\"Year\",\"xref\":\"x\",\"y\":\"CPI\",\"yref\":\"y\"},{\"font\":{\"color\":\"#000000\"},\"showarrow\":false,\"text\":\"0.28\",\"x\":\"Store\",\"xref\":\"x\",\"y\":\"Unemployment\",\"yref\":\"y\"},{\"font\":{\"color\":\"#000000\"},\"showarrow\":false,\"text\":\"0.19\",\"x\":\"Weekly_Sales\",\"xref\":\"x\",\"y\":\"Unemployment\",\"yref\":\"y\"},{\"font\":{\"color\":\"#FFFFFF\"},\"showarrow\":false,\"text\":\"0.06\",\"x\":\"Holiday_Flag\",\"xref\":\"x\",\"y\":\"Unemployment\",\"yref\":\"y\"},{\"font\":{\"color\":\"#FFFFFF\"},\"showarrow\":false,\"text\":\"-0.17\",\"x\":\"Temperature\",\"xref\":\"x\",\"y\":\"Unemployment\",\"yref\":\"y\"},{\"font\":{\"color\":\"#FFFFFF\"},\"showarrow\":false,\"text\":\"-0.04\",\"x\":\"Fuel_Price\",\"xref\":\"x\",\"y\":\"Unemployment\",\"yref\":\"y\"},{\"font\":{\"color\":\"#FFFFFF\"},\"showarrow\":false,\"text\":\"-0.25\",\"x\":\"CPI\",\"xref\":\"x\",\"y\":\"Unemployment\",\"yref\":\"y\"},{\"font\":{\"color\":\"#000000\"},\"showarrow\":false,\"text\":\"1.0\",\"x\":\"Unemployment\",\"xref\":\"x\",\"y\":\"Unemployment\",\"yref\":\"y\"},{\"font\":{\"color\":\"#FFFFFF\"},\"showarrow\":false,\"text\":\"-0.03\",\"x\":\"Day\",\"xref\":\"x\",\"y\":\"Unemployment\",\"yref\":\"y\"},{\"font\":{\"color\":\"#FFFFFF\"},\"showarrow\":false,\"text\":\"-0.12\",\"x\":\"Month\",\"xref\":\"x\",\"y\":\"Unemployment\",\"yref\":\"y\"},{\"font\":{\"color\":\"#FFFFFF\"},\"showarrow\":false,\"text\":\"-0.17\",\"x\":\"Year\",\"xref\":\"x\",\"y\":\"Unemployment\",\"yref\":\"y\"},{\"font\":{\"color\":\"#FFFFFF\"},\"showarrow\":false,\"text\":\"-0.04\",\"x\":\"Store\",\"xref\":\"x\",\"y\":\"Day\",\"yref\":\"y\"},{\"font\":{\"color\":\"#FFFFFF\"},\"showarrow\":false,\"text\":\"-0.04\",\"x\":\"Weekly_Sales\",\"xref\":\"x\",\"y\":\"Day\",\"yref\":\"y\"},{\"font\":{\"color\":\"#FFFFFF\"},\"showarrow\":false,\"text\":\"-0.03\",\"x\":\"Holiday_Flag\",\"xref\":\"x\",\"y\":\"Day\",\"yref\":\"y\"},{\"font\":{\"color\":\"#FFFFFF\"},\"showarrow\":false,\"text\":\"0.11\",\"x\":\"Temperature\",\"xref\":\"x\",\"y\":\"Day\",\"yref\":\"y\"},{\"font\":{\"color\":\"#FFFFFF\"},\"showarrow\":false,\"text\":\"-0.05\",\"x\":\"Fuel_Price\",\"xref\":\"x\",\"y\":\"Day\",\"yref\":\"y\"},{\"font\":{\"color\":\"#FFFFFF\"},\"showarrow\":false,\"text\":\"0.17\",\"x\":\"CPI\",\"xref\":\"x\",\"y\":\"Day\",\"yref\":\"y\"},{\"font\":{\"color\":\"#FFFFFF\"},\"showarrow\":false,\"text\":\"-0.03\",\"x\":\"Unemployment\",\"xref\":\"x\",\"y\":\"Day\",\"yref\":\"y\"},{\"font\":{\"color\":\"#000000\"},\"showarrow\":false,\"text\":\"1.0\",\"x\":\"Day\",\"xref\":\"x\",\"y\":\"Day\",\"yref\":\"y\"},{\"font\":{\"color\":\"#FFFFFF\"},\"showarrow\":false,\"text\":\"-0.02\",\"x\":\"Month\",\"xref\":\"x\",\"y\":\"Day\",\"yref\":\"y\"},{\"font\":{\"color\":\"#FFFFFF\"},\"showarrow\":false,\"text\":\"-0.13\",\"x\":\"Year\",\"xref\":\"x\",\"y\":\"Day\",\"yref\":\"y\"},{\"font\":{\"color\":\"#FFFFFF\"},\"showarrow\":false,\"text\":\"-0.03\",\"x\":\"Store\",\"xref\":\"x\",\"y\":\"Month\",\"yref\":\"y\"},{\"font\":{\"color\":\"#FFFFFF\"},\"showarrow\":false,\"text\":\"-0.01\",\"x\":\"Weekly_Sales\",\"xref\":\"x\",\"y\":\"Month\",\"yref\":\"y\"},{\"font\":{\"color\":\"#FFFFFF\"},\"showarrow\":false,\"text\":\"-0.05\",\"x\":\"Holiday_Flag\",\"xref\":\"x\",\"y\":\"Month\",\"yref\":\"y\"},{\"font\":{\"color\":\"#000000\"},\"showarrow\":false,\"text\":\"0.26\",\"x\":\"Temperature\",\"xref\":\"x\",\"y\":\"Month\",\"yref\":\"y\"},{\"font\":{\"color\":\"#FFFFFF\"},\"showarrow\":false,\"text\":\"-0.12\",\"x\":\"Fuel_Price\",\"xref\":\"x\",\"y\":\"Month\",\"yref\":\"y\"},{\"font\":{\"color\":\"#FFFFFF\"},\"showarrow\":false,\"text\":\"-0.01\",\"x\":\"CPI\",\"xref\":\"x\",\"y\":\"Month\",\"yref\":\"y\"},{\"font\":{\"color\":\"#FFFFFF\"},\"showarrow\":false,\"text\":\"-0.12\",\"x\":\"Unemployment\",\"xref\":\"x\",\"y\":\"Month\",\"yref\":\"y\"},{\"font\":{\"color\":\"#FFFFFF\"},\"showarrow\":false,\"text\":\"-0.02\",\"x\":\"Day\",\"xref\":\"x\",\"y\":\"Month\",\"yref\":\"y\"},{\"font\":{\"color\":\"#000000\"},\"showarrow\":false,\"text\":\"1.0\",\"x\":\"Month\",\"xref\":\"x\",\"y\":\"Month\",\"yref\":\"y\"},{\"font\":{\"color\":\"#FFFFFF\"},\"showarrow\":false,\"text\":\"-0.23\",\"x\":\"Year\",\"xref\":\"x\",\"y\":\"Month\",\"yref\":\"y\"},{\"font\":{\"color\":\"#FFFFFF\"},\"showarrow\":false,\"text\":\"-0.03\",\"x\":\"Store\",\"xref\":\"x\",\"y\":\"Year\",\"yref\":\"y\"},{\"font\":{\"color\":\"#FFFFFF\"},\"showarrow\":false,\"text\":\"-0.04\",\"x\":\"Weekly_Sales\",\"xref\":\"x\",\"y\":\"Year\",\"yref\":\"y\"},{\"font\":{\"color\":\"#FFFFFF\"},\"showarrow\":false,\"text\":\"0.0\",\"x\":\"Holiday_Flag\",\"xref\":\"x\",\"y\":\"Year\",\"yref\":\"y\"},{\"font\":{\"color\":\"#FFFFFF\"},\"showarrow\":false,\"text\":\"-0.16\",\"x\":\"Temperature\",\"xref\":\"x\",\"y\":\"Year\",\"yref\":\"y\"},{\"font\":{\"color\":\"#000000\"},\"showarrow\":false,\"text\":\"0.83\",\"x\":\"Fuel_Price\",\"xref\":\"x\",\"y\":\"Year\",\"yref\":\"y\"},{\"font\":{\"color\":\"#FFFFFF\"},\"showarrow\":false,\"text\":\"-0.02\",\"x\":\"CPI\",\"xref\":\"x\",\"y\":\"Year\",\"yref\":\"y\"},{\"font\":{\"color\":\"#FFFFFF\"},\"showarrow\":false,\"text\":\"-0.17\",\"x\":\"Unemployment\",\"xref\":\"x\",\"y\":\"Year\",\"yref\":\"y\"},{\"font\":{\"color\":\"#FFFFFF\"},\"showarrow\":false,\"text\":\"-0.13\",\"x\":\"Day\",\"xref\":\"x\",\"y\":\"Year\",\"yref\":\"y\"},{\"font\":{\"color\":\"#FFFFFF\"},\"showarrow\":false,\"text\":\"-0.23\",\"x\":\"Month\",\"xref\":\"x\",\"y\":\"Year\",\"yref\":\"y\"},{\"font\":{\"color\":\"#000000\"},\"showarrow\":false,\"text\":\"1.0\",\"x\":\"Year\",\"xref\":\"x\",\"y\":\"Year\",\"yref\":\"y\"}],\"xaxis\":{\"dtick\":1,\"gridcolor\":\"rgb(0, 0, 0)\",\"side\":\"top\",\"ticks\":\"\"},\"yaxis\":{\"dtick\":1,\"ticks\":\"\",\"ticksuffix\":\"  \"},\"template\":{\"data\":{\"bar\":[{\"error_x\":{\"color\":\"#2a3f5f\"},\"error_y\":{\"color\":\"#2a3f5f\"},\"marker\":{\"line\":{\"color\":\"#E5ECF6\",\"width\":0.5},\"pattern\":{\"fillmode\":\"overlay\",\"size\":10,\"solidity\":0.2}},\"type\":\"bar\"}],\"barpolar\":[{\"marker\":{\"line\":{\"color\":\"#E5ECF6\",\"width\":0.5},\"pattern\":{\"fillmode\":\"overlay\",\"size\":10,\"solidity\":0.2}},\"type\":\"barpolar\"}],\"carpet\":[{\"aaxis\":{\"endlinecolor\":\"#2a3f5f\",\"gridcolor\":\"white\",\"linecolor\":\"white\",\"minorgridcolor\":\"white\",\"startlinecolor\":\"#2a3f5f\"},\"baxis\":{\"endlinecolor\":\"#2a3f5f\",\"gridcolor\":\"white\",\"linecolor\":\"white\",\"minorgridcolor\":\"white\",\"startlinecolor\":\"#2a3f5f\"},\"type\":\"carpet\"}],\"choropleth\":[{\"colorbar\":{\"outlinewidth\":0,\"ticks\":\"\"},\"type\":\"choropleth\"}],\"contour\":[{\"colorbar\":{\"outlinewidth\":0,\"ticks\":\"\"},\"colorscale\":[[0.0,\"#0d0887\"],[0.1111111111111111,\"#46039f\"],[0.2222222222222222,\"#7201a8\"],[0.3333333333333333,\"#9c179e\"],[0.4444444444444444,\"#bd3786\"],[0.5555555555555556,\"#d8576b\"],[0.6666666666666666,\"#ed7953\"],[0.7777777777777778,\"#fb9f3a\"],[0.8888888888888888,\"#fdca26\"],[1.0,\"#f0f921\"]],\"type\":\"contour\"}],\"contourcarpet\":[{\"colorbar\":{\"outlinewidth\":0,\"ticks\":\"\"},\"type\":\"contourcarpet\"}],\"heatmap\":[{\"colorbar\":{\"outlinewidth\":0,\"ticks\":\"\"},\"colorscale\":[[0.0,\"#0d0887\"],[0.1111111111111111,\"#46039f\"],[0.2222222222222222,\"#7201a8\"],[0.3333333333333333,\"#9c179e\"],[0.4444444444444444,\"#bd3786\"],[0.5555555555555556,\"#d8576b\"],[0.6666666666666666,\"#ed7953\"],[0.7777777777777778,\"#fb9f3a\"],[0.8888888888888888,\"#fdca26\"],[1.0,\"#f0f921\"]],\"type\":\"heatmap\"}],\"heatmapgl\":[{\"colorbar\":{\"outlinewidth\":0,\"ticks\":\"\"},\"colorscale\":[[0.0,\"#0d0887\"],[0.1111111111111111,\"#46039f\"],[0.2222222222222222,\"#7201a8\"],[0.3333333333333333,\"#9c179e\"],[0.4444444444444444,\"#bd3786\"],[0.5555555555555556,\"#d8576b\"],[0.6666666666666666,\"#ed7953\"],[0.7777777777777778,\"#fb9f3a\"],[0.8888888888888888,\"#fdca26\"],[1.0,\"#f0f921\"]],\"type\":\"heatmapgl\"}],\"histogram\":[{\"marker\":{\"pattern\":{\"fillmode\":\"overlay\",\"size\":10,\"solidity\":0.2}},\"type\":\"histogram\"}],\"histogram2d\":[{\"colorbar\":{\"outlinewidth\":0,\"ticks\":\"\"},\"colorscale\":[[0.0,\"#0d0887\"],[0.1111111111111111,\"#46039f\"],[0.2222222222222222,\"#7201a8\"],[0.3333333333333333,\"#9c179e\"],[0.4444444444444444,\"#bd3786\"],[0.5555555555555556,\"#d8576b\"],[0.6666666666666666,\"#ed7953\"],[0.7777777777777778,\"#fb9f3a\"],[0.8888888888888888,\"#fdca26\"],[1.0,\"#f0f921\"]],\"type\":\"histogram2d\"}],\"histogram2dcontour\":[{\"colorbar\":{\"outlinewidth\":0,\"ticks\":\"\"},\"colorscale\":[[0.0,\"#0d0887\"],[0.1111111111111111,\"#46039f\"],[0.2222222222222222,\"#7201a8\"],[0.3333333333333333,\"#9c179e\"],[0.4444444444444444,\"#bd3786\"],[0.5555555555555556,\"#d8576b\"],[0.6666666666666666,\"#ed7953\"],[0.7777777777777778,\"#fb9f3a\"],[0.8888888888888888,\"#fdca26\"],[1.0,\"#f0f921\"]],\"type\":\"histogram2dcontour\"}],\"mesh3d\":[{\"colorbar\":{\"outlinewidth\":0,\"ticks\":\"\"},\"type\":\"mesh3d\"}],\"parcoords\":[{\"line\":{\"colorbar\":{\"outlinewidth\":0,\"ticks\":\"\"}},\"type\":\"parcoords\"}],\"pie\":[{\"automargin\":true,\"type\":\"pie\"}],\"scatter\":[{\"marker\":{\"colorbar\":{\"outlinewidth\":0,\"ticks\":\"\"}},\"type\":\"scatter\"}],\"scatter3d\":[{\"line\":{\"colorbar\":{\"outlinewidth\":0,\"ticks\":\"\"}},\"marker\":{\"colorbar\":{\"outlinewidth\":0,\"ticks\":\"\"}},\"type\":\"scatter3d\"}],\"scattercarpet\":[{\"marker\":{\"colorbar\":{\"outlinewidth\":0,\"ticks\":\"\"}},\"type\":\"scattercarpet\"}],\"scattergeo\":[{\"marker\":{\"colorbar\":{\"outlinewidth\":0,\"ticks\":\"\"}},\"type\":\"scattergeo\"}],\"scattergl\":[{\"marker\":{\"colorbar\":{\"outlinewidth\":0,\"ticks\":\"\"}},\"type\":\"scattergl\"}],\"scattermapbox\":[{\"marker\":{\"colorbar\":{\"outlinewidth\":0,\"ticks\":\"\"}},\"type\":\"scattermapbox\"}],\"scatterpolar\":[{\"marker\":{\"colorbar\":{\"outlinewidth\":0,\"ticks\":\"\"}},\"type\":\"scatterpolar\"}],\"scatterpolargl\":[{\"marker\":{\"colorbar\":{\"outlinewidth\":0,\"ticks\":\"\"}},\"type\":\"scatterpolargl\"}],\"scatterternary\":[{\"marker\":{\"colorbar\":{\"outlinewidth\":0,\"ticks\":\"\"}},\"type\":\"scatterternary\"}],\"surface\":[{\"colorbar\":{\"outlinewidth\":0,\"ticks\":\"\"},\"colorscale\":[[0.0,\"#0d0887\"],[0.1111111111111111,\"#46039f\"],[0.2222222222222222,\"#7201a8\"],[0.3333333333333333,\"#9c179e\"],[0.4444444444444444,\"#bd3786\"],[0.5555555555555556,\"#d8576b\"],[0.6666666666666666,\"#ed7953\"],[0.7777777777777778,\"#fb9f3a\"],[0.8888888888888888,\"#fdca26\"],[1.0,\"#f0f921\"]],\"type\":\"surface\"}],\"table\":[{\"cells\":{\"fill\":{\"color\":\"#EBF0F8\"},\"line\":{\"color\":\"white\"}},\"header\":{\"fill\":{\"color\":\"#C8D4E3\"},\"line\":{\"color\":\"white\"}},\"type\":\"table\"}]},\"layout\":{\"annotationdefaults\":{\"arrowcolor\":\"#2a3f5f\",\"arrowhead\":0,\"arrowwidth\":1},\"autotypenumbers\":\"strict\",\"coloraxis\":{\"colorbar\":{\"outlinewidth\":0,\"ticks\":\"\"}},\"colorscale\":{\"diverging\":[[0,\"#8e0152\"],[0.1,\"#c51b7d\"],[0.2,\"#de77ae\"],[0.3,\"#f1b6da\"],[0.4,\"#fde0ef\"],[0.5,\"#f7f7f7\"],[0.6,\"#e6f5d0\"],[0.7,\"#b8e186\"],[0.8,\"#7fbc41\"],[0.9,\"#4d9221\"],[1,\"#276419\"]],\"sequential\":[[0.0,\"#0d0887\"],[0.1111111111111111,\"#46039f\"],[0.2222222222222222,\"#7201a8\"],[0.3333333333333333,\"#9c179e\"],[0.4444444444444444,\"#bd3786\"],[0.5555555555555556,\"#d8576b\"],[0.6666666666666666,\"#ed7953\"],[0.7777777777777778,\"#fb9f3a\"],[0.8888888888888888,\"#fdca26\"],[1.0,\"#f0f921\"]],\"sequentialminus\":[[0.0,\"#0d0887\"],[0.1111111111111111,\"#46039f\"],[0.2222222222222222,\"#7201a8\"],[0.3333333333333333,\"#9c179e\"],[0.4444444444444444,\"#bd3786\"],[0.5555555555555556,\"#d8576b\"],[0.6666666666666666,\"#ed7953\"],[0.7777777777777778,\"#fb9f3a\"],[0.8888888888888888,\"#fdca26\"],[1.0,\"#f0f921\"]]},\"colorway\":[\"#636efa\",\"#EF553B\",\"#00cc96\",\"#ab63fa\",\"#FFA15A\",\"#19d3f3\",\"#FF6692\",\"#B6E880\",\"#FF97FF\",\"#FECB52\"],\"font\":{\"color\":\"#2a3f5f\"},\"geo\":{\"bgcolor\":\"white\",\"lakecolor\":\"white\",\"landcolor\":\"#E5ECF6\",\"showlakes\":true,\"showland\":true,\"subunitcolor\":\"white\"},\"hoverlabel\":{\"align\":\"left\"},\"hovermode\":\"closest\",\"mapbox\":{\"style\":\"light\"},\"paper_bgcolor\":\"white\",\"plot_bgcolor\":\"#E5ECF6\",\"polar\":{\"angularaxis\":{\"gridcolor\":\"white\",\"linecolor\":\"white\",\"ticks\":\"\"},\"bgcolor\":\"#E5ECF6\",\"radialaxis\":{\"gridcolor\":\"white\",\"linecolor\":\"white\",\"ticks\":\"\"}},\"scene\":{\"xaxis\":{\"backgroundcolor\":\"#E5ECF6\",\"gridcolor\":\"white\",\"gridwidth\":2,\"linecolor\":\"white\",\"showbackground\":true,\"ticks\":\"\",\"zerolinecolor\":\"white\"},\"yaxis\":{\"backgroundcolor\":\"#E5ECF6\",\"gridcolor\":\"white\",\"gridwidth\":2,\"linecolor\":\"white\",\"showbackground\":true,\"ticks\":\"\",\"zerolinecolor\":\"white\"},\"zaxis\":{\"backgroundcolor\":\"#E5ECF6\",\"gridcolor\":\"white\",\"gridwidth\":2,\"linecolor\":\"white\",\"showbackground\":true,\"ticks\":\"\",\"zerolinecolor\":\"white\"}},\"shapedefaults\":{\"line\":{\"color\":\"#2a3f5f\"}},\"ternary\":{\"aaxis\":{\"gridcolor\":\"white\",\"linecolor\":\"white\",\"ticks\":\"\"},\"baxis\":{\"gridcolor\":\"white\",\"linecolor\":\"white\",\"ticks\":\"\"},\"bgcolor\":\"#E5ECF6\",\"caxis\":{\"gridcolor\":\"white\",\"linecolor\":\"white\",\"ticks\":\"\"}},\"title\":{\"x\":0.05},\"xaxis\":{\"automargin\":true,\"gridcolor\":\"white\",\"linecolor\":\"white\",\"ticks\":\"\",\"title\":{\"standoff\":15},\"zerolinecolor\":\"white\",\"zerolinewidth\":2},\"yaxis\":{\"automargin\":true,\"gridcolor\":\"white\",\"linecolor\":\"white\",\"ticks\":\"\",\"title\":{\"standoff\":15},\"zerolinecolor\":\"white\",\"zerolinewidth\":2}}}},                        {\"responsive\": true}                    ).then(function(){\n",
              "                            \n",
              "var gd = document.getElementById('613a90eb-ff98-408a-828c-baabef0a2f96');\n",
              "var x = new MutationObserver(function (mutations, observer) {{\n",
              "        var display = window.getComputedStyle(gd).display;\n",
              "        if (!display || display === 'none') {{\n",
              "            console.log([gd, 'removed!']);\n",
              "            Plotly.purge(gd);\n",
              "            observer.disconnect();\n",
              "        }}\n",
              "}});\n",
              "\n",
              "// Listen for the removal of the full notebook cells\n",
              "var notebookContainer = gd.closest('#notebook-container');\n",
              "if (notebookContainer) {{\n",
              "    x.observe(notebookContainer, {childList: true});\n",
              "}}\n",
              "\n",
              "// Listen for the clearing of the current output cell\n",
              "var outputEl = gd.closest('.output');\n",
              "if (outputEl) {{\n",
              "    x.observe(outputEl, {childList: true});\n",
              "}}\n",
              "\n",
              "                        })                };                            </script>        </div>\n",
              "</body>\n",
              "</html>"
            ]
          },
          "metadata": {}
        }
      ],
      "source": [
        "corr_matrix = df.corr().round(2)\n",
        "fig = ff.create_annotated_heatmap(corr_matrix.values,\n",
        "                                  x = corr_matrix.columns.tolist(),\n",
        "                                  y = corr_matrix.index.tolist())\n",
        "fig.show()"
      ]
    },
    {
      "cell_type": "markdown",
      "id": "981fb6f6-534c-4e0e-8bad-07c7176b51b1",
      "metadata": {
        "id": "981fb6f6-534c-4e0e-8bad-07c7176b51b1"
      },
      "source": [
        "### ⚙️ Preprocessings "
      ]
    },
    {
      "cell_type": "code",
      "execution_count": null,
      "id": "7051532c-1ad3-4444-84d7-548bc1fca951",
      "metadata": {
        "colab": {
          "base_uri": "https://localhost:8080/"
        },
        "id": "7051532c-1ad3-4444-84d7-548bc1fca951",
        "outputId": "95a23f5c-70da-4788-ee47-72b827cc51e2"
      },
      "outputs": [
        {
          "output_type": "stream",
          "name": "stdout",
          "text": [
            "Separating labels from features...\n",
            "...Done.\n"
          ]
        }
      ],
      "source": [
        "target_name = 'Weekly_Sales'\n",
        "\n",
        "print(\"Separating labels from features...\")\n",
        "Y = df.loc[:,target_name]\n",
        "X = df.drop(target_name, axis = 1) \n",
        "print(\"...Done.\")"
      ]
    },
    {
      "cell_type": "code",
      "execution_count": null,
      "id": "e624c396-c88e-4c97-9374-5ef39d7cbd56",
      "metadata": {
        "colab": {
          "base_uri": "https://localhost:8080/"
        },
        "id": "e624c396-c88e-4c97-9374-5ef39d7cbd56",
        "outputId": "ca067789-e77c-425c-88e0-5fc8a9dda9aa"
      },
      "outputs": [
        {
          "output_type": "stream",
          "name": "stdout",
          "text": [
            "Dividing into train and test sets...\n",
            "...Done.\n"
          ]
        }
      ],
      "source": [
        "print(\"Dividing into train and test sets...\")\n",
        "X_train, X_test, Y_train, Y_test = train_test_split(X, Y, test_size=0.2)\n",
        "print(\"...Done.\")"
      ]
    },
    {
      "cell_type": "code",
      "execution_count": null,
      "id": "7aee1afb-f3d3-47d5-9fe6-6707bccaa65f",
      "metadata": {
        "id": "7aee1afb-f3d3-47d5-9fe6-6707bccaa65f"
      },
      "outputs": [],
      "source": [
        "numeric_features = ['Temperature', 'Fuel_Price', 'CPI', 'Unemployment', 'Year', 'Month', 'Day'] \n",
        "numeric_transformer = Pipeline(steps=[\n",
        "    ('imputer', SimpleImputer(strategy='median')), \n",
        "    ('scaler', StandardScaler())\n",
        "    ])\n",
        "\n",
        "categorical_features = ['Store', 'Holiday_Flag'] \n",
        "categorical_transformer = Pipeline(\n",
        "    steps=[\n",
        "    ('imputer', SimpleImputer(strategy='most_frequent')), \n",
        "    ('encoder', OneHotEncoder(drop='first', handle_unknown = 'ignore')) \n",
        "    ])\n",
        "\n",
        "preprocessor = ColumnTransformer(\n",
        "    transformers=[\n",
        "        ('num', numeric_transformer, numeric_features),\n",
        "        ('cat', categorical_transformer, categorical_features)\n",
        "    ])"
      ]
    },
    {
      "cell_type": "code",
      "execution_count": null,
      "id": "7509dea7-2c55-449c-8450-722bae86d918",
      "metadata": {
        "colab": {
          "base_uri": "https://localhost:8080/"
        },
        "id": "7509dea7-2c55-449c-8450-722bae86d918",
        "outputId": "c73944d3-924f-494f-f840-27eea9b9b52a"
      },
      "outputs": [
        {
          "output_type": "stream",
          "name": "stdout",
          "text": [
            "Performing preprocessings on train set...\n",
            "...Done.\n",
            "Performing preprocessings on test set...\n",
            "...Done.\n"
          ]
        }
      ],
      "source": [
        "print(\"Performing preprocessings on train set...\")\n",
        "X_train = preprocessor.fit_transform(X_train)\n",
        "print('...Done.')\n",
        "\n",
        "print(\"Performing preprocessings on test set...\") \n",
        "X_test = preprocessor.transform(X_test) \n",
        "print('...Done.')"
      ]
    },
    {
      "cell_type": "markdown",
      "id": "ccf44210-39bc-4372-ac38-1d6e5d73f85a",
      "metadata": {
        "id": "ccf44210-39bc-4372-ac38-1d6e5d73f85a"
      },
      "source": [
        "## 📈 Part 2 : Baseline model (linear regression)"
      ]
    },
    {
      "cell_type": "code",
      "execution_count": null,
      "id": "f11cc0b5-82d5-43cc-8d97-bf765deed4a5",
      "metadata": {
        "colab": {
          "base_uri": "https://localhost:8080/"
        },
        "id": "f11cc0b5-82d5-43cc-8d97-bf765deed4a5",
        "outputId": "63950af6-e38a-4f8f-8d89-5e3d628f83ba"
      },
      "outputs": [
        {
          "output_type": "stream",
          "name": "stdout",
          "text": [
            "Train model...\n",
            "...Done.\n"
          ]
        }
      ],
      "source": [
        "print(\"Train model...\")\n",
        "regressor = LinearRegression()\n",
        "regressor.fit(X_train, Y_train)\n",
        "print(\"...Done.\")"
      ]
    },
    {
      "cell_type": "markdown",
      "id": "662acd79",
      "metadata": {
        "id": "662acd79"
      },
      "source": [
        "### 💯 Model performance metrics"
      ]
    },
    {
      "cell_type": "code",
      "execution_count": null,
      "id": "40a90cf7-48eb-4318-88b0-b72c5ace238e",
      "metadata": {
        "colab": {
          "base_uri": "https://localhost:8080/"
        },
        "id": "40a90cf7-48eb-4318-88b0-b72c5ace238e",
        "outputId": "fe681b35-e0e0-4e13-8523-5935b6afa7b1"
      },
      "outputs": [
        {
          "output_type": "stream",
          "name": "stdout",
          "text": [
            "R2 score on training set :  0.9736478628873081\n",
            "R2 score on test set :  0.9182464495904783\n"
          ]
        }
      ],
      "source": [
        "Y_train_pred = regressor.predict(X_train)\n",
        "Y_test_pred = regressor.predict(X_test)\n",
        "print(\"R2 score on training set : \", r2_score(Y_train, Y_train_pred))\n",
        "print(\"R2 score on test set : \", r2_score(Y_test, Y_test_pred))"
      ]
    },
    {
      "cell_type": "markdown",
      "id": "035662f4",
      "metadata": {
        "id": "035662f4"
      },
      "source": [
        "### 📊 Feature importance visualization"
      ]
    },
    {
      "cell_type": "code",
      "execution_count": null,
      "id": "7310a244-24da-49d4-a708-2082bf62fa08",
      "metadata": {
        "colab": {
          "base_uri": "https://localhost:8080/"
        },
        "id": "7310a244-24da-49d4-a708-2082bf62fa08",
        "outputId": "ee5f7e6b-d0f9-455b-d147-1f0e6e6b6deb"
      },
      "outputs": [
        {
          "output_type": "stream",
          "name": "stdout",
          "text": [
            "Names of columns corresponding to each coefficient:  ['Temperature', 'Fuel_Price', 'CPI', 'Unemployment', 'Year', 'Month', 'Day', 'x0_2.0', 'x0_3.0', 'x0_4.0', 'x0_5.0', 'x0_6.0', 'x0_7.0', 'x0_8.0', 'x0_9.0', 'x0_10.0', 'x0_11.0', 'x0_13.0', 'x0_14.0', 'x0_15.0', 'x0_16.0', 'x0_17.0', 'x0_18.0', 'x0_19.0', 'x0_20.0', 'x1_1.0']\n"
          ]
        }
      ],
      "source": [
        "column_names = []\n",
        "for name, pipeline, features_list in preprocessor.transformers_: \n",
        "    if name == 'num': \n",
        "        features = features_list \n",
        "    else: \n",
        "        features = pipeline.named_steps['encoder'].get_feature_names_out() \n",
        "    column_names.extend(features) \n",
        "        \n",
        "print(\"Names of columns corresponding to each coefficient: \", column_names)"
      ]
    },
    {
      "cell_type": "code",
      "execution_count": null,
      "id": "50324282-cb39-4860-b169-e3ad37955ec7",
      "metadata": {
        "colab": {
          "base_uri": "https://localhost:8080/",
          "height": 206
        },
        "id": "50324282-cb39-4860-b169-e3ad37955ec7",
        "outputId": "e3915f33-9921-4599-fac5-2fa97b23e40c"
      },
      "outputs": [
        {
          "output_type": "execute_result",
          "data": {
            "text/plain": [
              "             coefficients\n",
              "Fuel_Price   15978.419181\n",
              "Day          32202.552096\n",
              "Year         32710.346819\n",
              "x1_1.0       35164.760000\n",
              "Temperature  41452.499168"
            ],
            "text/html": [
              "\n",
              "  <div id=\"df-1c15ec37-d6b7-42be-9518-cb516f9014e5\">\n",
              "    <div class=\"colab-df-container\">\n",
              "      <div>\n",
              "<style scoped>\n",
              "    .dataframe tbody tr th:only-of-type {\n",
              "        vertical-align: middle;\n",
              "    }\n",
              "\n",
              "    .dataframe tbody tr th {\n",
              "        vertical-align: top;\n",
              "    }\n",
              "\n",
              "    .dataframe thead th {\n",
              "        text-align: right;\n",
              "    }\n",
              "</style>\n",
              "<table border=\"1\" class=\"dataframe\">\n",
              "  <thead>\n",
              "    <tr style=\"text-align: right;\">\n",
              "      <th></th>\n",
              "      <th>coefficients</th>\n",
              "    </tr>\n",
              "  </thead>\n",
              "  <tbody>\n",
              "    <tr>\n",
              "      <th>Fuel_Price</th>\n",
              "      <td>15978.419181</td>\n",
              "    </tr>\n",
              "    <tr>\n",
              "      <th>Day</th>\n",
              "      <td>32202.552096</td>\n",
              "    </tr>\n",
              "    <tr>\n",
              "      <th>Year</th>\n",
              "      <td>32710.346819</td>\n",
              "    </tr>\n",
              "    <tr>\n",
              "      <th>x1_1.0</th>\n",
              "      <td>35164.760000</td>\n",
              "    </tr>\n",
              "    <tr>\n",
              "      <th>Temperature</th>\n",
              "      <td>41452.499168</td>\n",
              "    </tr>\n",
              "  </tbody>\n",
              "</table>\n",
              "</div>\n",
              "      <button class=\"colab-df-convert\" onclick=\"convertToInteractive('df-1c15ec37-d6b7-42be-9518-cb516f9014e5')\"\n",
              "              title=\"Convert this dataframe to an interactive table.\"\n",
              "              style=\"display:none;\">\n",
              "        \n",
              "  <svg xmlns=\"http://www.w3.org/2000/svg\" height=\"24px\"viewBox=\"0 0 24 24\"\n",
              "       width=\"24px\">\n",
              "    <path d=\"M0 0h24v24H0V0z\" fill=\"none\"/>\n",
              "    <path d=\"M18.56 5.44l.94 2.06.94-2.06 2.06-.94-2.06-.94-.94-2.06-.94 2.06-2.06.94zm-11 1L8.5 8.5l.94-2.06 2.06-.94-2.06-.94L8.5 2.5l-.94 2.06-2.06.94zm10 10l.94 2.06.94-2.06 2.06-.94-2.06-.94-.94-2.06-.94 2.06-2.06.94z\"/><path d=\"M17.41 7.96l-1.37-1.37c-.4-.4-.92-.59-1.43-.59-.52 0-1.04.2-1.43.59L10.3 9.45l-7.72 7.72c-.78.78-.78 2.05 0 2.83L4 21.41c.39.39.9.59 1.41.59.51 0 1.02-.2 1.41-.59l7.78-7.78 2.81-2.81c.8-.78.8-2.07 0-2.86zM5.41 20L4 18.59l7.72-7.72 1.47 1.35L5.41 20z\"/>\n",
              "  </svg>\n",
              "      </button>\n",
              "      \n",
              "  <style>\n",
              "    .colab-df-container {\n",
              "      display:flex;\n",
              "      flex-wrap:wrap;\n",
              "      gap: 12px;\n",
              "    }\n",
              "\n",
              "    .colab-df-convert {\n",
              "      background-color: #E8F0FE;\n",
              "      border: none;\n",
              "      border-radius: 50%;\n",
              "      cursor: pointer;\n",
              "      display: none;\n",
              "      fill: #1967D2;\n",
              "      height: 32px;\n",
              "      padding: 0 0 0 0;\n",
              "      width: 32px;\n",
              "    }\n",
              "\n",
              "    .colab-df-convert:hover {\n",
              "      background-color: #E2EBFA;\n",
              "      box-shadow: 0px 1px 2px rgba(60, 64, 67, 0.3), 0px 1px 3px 1px rgba(60, 64, 67, 0.15);\n",
              "      fill: #174EA6;\n",
              "    }\n",
              "\n",
              "    [theme=dark] .colab-df-convert {\n",
              "      background-color: #3B4455;\n",
              "      fill: #D2E3FC;\n",
              "    }\n",
              "\n",
              "    [theme=dark] .colab-df-convert:hover {\n",
              "      background-color: #434B5C;\n",
              "      box-shadow: 0px 1px 3px 1px rgba(0, 0, 0, 0.15);\n",
              "      filter: drop-shadow(0px 1px 2px rgba(0, 0, 0, 0.3));\n",
              "      fill: #FFFFFF;\n",
              "    }\n",
              "  </style>\n",
              "\n",
              "      <script>\n",
              "        const buttonEl =\n",
              "          document.querySelector('#df-1c15ec37-d6b7-42be-9518-cb516f9014e5 button.colab-df-convert');\n",
              "        buttonEl.style.display =\n",
              "          google.colab.kernel.accessAllowed ? 'block' : 'none';\n",
              "\n",
              "        async function convertToInteractive(key) {\n",
              "          const element = document.querySelector('#df-1c15ec37-d6b7-42be-9518-cb516f9014e5');\n",
              "          const dataTable =\n",
              "            await google.colab.kernel.invokeFunction('convertToInteractive',\n",
              "                                                     [key], {});\n",
              "          if (!dataTable) return;\n",
              "\n",
              "          const docLinkHtml = 'Like what you see? Visit the ' +\n",
              "            '<a target=\"_blank\" href=https://colab.research.google.com/notebooks/data_table.ipynb>data table notebook</a>'\n",
              "            + ' to learn more about interactive tables.';\n",
              "          element.innerHTML = '';\n",
              "          dataTable['output_type'] = 'display_data';\n",
              "          await google.colab.output.renderOutput(dataTable, element);\n",
              "          const docLink = document.createElement('div');\n",
              "          docLink.innerHTML = docLinkHtml;\n",
              "          element.appendChild(docLink);\n",
              "        }\n",
              "      </script>\n",
              "    </div>\n",
              "  </div>\n",
              "  "
            ]
          },
          "metadata": {},
          "execution_count": 21
        }
      ],
      "source": [
        "coefs = pd.DataFrame(index = (column_names), data = regressor.coef_.transpose(), columns=['coefficients'])\n",
        "feature_importance = abs(coefs).sort_values(by='coefficients')\n",
        "feature_importance.head()"
      ]
    },
    {
      "cell_type": "code",
      "execution_count": null,
      "id": "2ab3c47e",
      "metadata": {
        "colab": {
          "base_uri": "https://localhost:8080/",
          "height": 295
        },
        "id": "2ab3c47e",
        "outputId": "0140202b-1d90-4374-85da-cff5b79fd743"
      },
      "outputs": [
        {
          "output_type": "execute_result",
          "data": {
            "text/plain": [
              "<matplotlib.axes._subplots.AxesSubplot at 0x7f5cb9c51100>"
            ]
          },
          "metadata": {},
          "execution_count": 22
        },
        {
          "output_type": "display_data",
          "data": {
            "text/plain": [
              "<Figure size 432x288 with 1 Axes>"
            ],
            "image/png": "[encoded data removed]"
          },
          "metadata": {
            "needs_background": "light"
          }
        }
      ],
      "source": [
        "feature_importance.plot(kind='barh')"
      ]
    },
    {
      "cell_type": "markdown",
      "id": "9bef27bf-4b18-4012-a0b7-176365524e33",
      "metadata": {
        "tags": [],
        "id": "9bef27bf-4b18-4012-a0b7-176365524e33"
      },
      "source": [
        "## 👮 Part 3 : Fight overfitting"
      ]
    },
    {
      "cell_type": "markdown",
      "id": "c976363b-9091-4cd3-adde-bcfb36673083",
      "metadata": {
        "id": "c976363b-9091-4cd3-adde-bcfb36673083"
      },
      "source": [
        "### Ridge"
      ]
    },
    {
      "cell_type": "code",
      "execution_count": null,
      "id": "22ba3fe6-ffd9-47c6-916b-e48c00d717be",
      "metadata": {
        "colab": {
          "base_uri": "https://localhost:8080/"
        },
        "id": "22ba3fe6-ffd9-47c6-916b-e48c00d717be",
        "outputId": "7bf7dbbe-27dc-446b-f29a-897ff8ea0c66"
      },
      "outputs": [
        {
          "output_type": "stream",
          "name": "stdout",
          "text": [
            "R2 on train:  0.9347978464487467\n",
            "R2 on test:  0.8808316421784123\n",
            "The cross-validated R2-score is :  0.8327902835668402\n",
            "The standard deviation is :  0.0541390593353295\n"
          ]
        }
      ],
      "source": [
        "ridge = Ridge()\n",
        "ridge.fit(X_train, Y_train)\n",
        "print('R2 on train: ', ridge.score(X_train, Y_train))\n",
        "print('R2 on test: ', ridge.score(X_test, Y_test))\n",
        "scores = cross_val_score(ridge, X_train, Y_train, cv=5)\n",
        "print('The cross-validated R2-score is : ', scores.mean())\n",
        "print('The standard deviation is : ', scores.std())"
      ]
    },
    {
      "cell_type": "markdown",
      "id": "41cabbf2-c275-4d2d-ba3f-74358bae7c81",
      "metadata": {
        "id": "41cabbf2-c275-4d2d-ba3f-74358bae7c81"
      },
      "source": [
        "### Lasso"
      ]
    },
    {
      "cell_type": "code",
      "execution_count": null,
      "id": "61a058cf-14db-44d7-b62b-e9473b93d354",
      "metadata": {
        "colab": {
          "base_uri": "https://localhost:8080/"
        },
        "id": "61a058cf-14db-44d7-b62b-e9473b93d354",
        "outputId": "49981dea-30b0-4dce-a45c-6a3e0333ac18"
      },
      "outputs": [
        {
          "output_type": "stream",
          "name": "stdout",
          "text": [
            "R2 on train:  0.9736478600249326\n",
            "R2 on test:  0.9182925528079735\n",
            "The cross-validated R2-score is :  0.925473874766784\n",
            "The standard deviation is :  0.04791317777907026\n"
          ]
        }
      ],
      "source": [
        "lasso = Lasso()\n",
        "lasso.fit(X_train, Y_train)\n",
        "print('R2 on train: ', lasso.score(X_train, Y_train))\n",
        "print('R2 on test: ', lasso.score(X_test, Y_test))\n",
        "scores = cross_val_score(lasso, X_train, Y_train, cv=5)\n",
        "print('The cross-validated R2-score is : ', scores.mean())\n",
        "print('The standard deviation is : ', scores.std())"
      ]
    },
    {
      "cell_type": "markdown",
      "id": "8224e57b-ddd3-4570-b523-13512d3c1eb7",
      "metadata": {
        "id": "8224e57b-ddd3-4570-b523-13512d3c1eb7"
      },
      "source": [
        "## ➕ Bonus question"
      ]
    },
    {
      "cell_type": "markdown",
      "id": "1fa954e1-eaaa-41e9-8119-aa0bf97afd17",
      "metadata": {
        "id": "1fa954e1-eaaa-41e9-8119-aa0bf97afd17"
      },
      "source": [
        "### Ridge Gridsearch"
      ]
    },
    {
      "cell_type": "code",
      "execution_count": null,
      "id": "4177929e-7fe4-485b-851a-f3878c8e8ade",
      "metadata": {
        "colab": {
          "base_uri": "https://localhost:8080/"
        },
        "id": "4177929e-7fe4-485b-851a-f3878c8e8ade",
        "outputId": "37af7161-d414-4712-9067-e9eb6a883e79"
      },
      "outputs": [
        {
          "output_type": "stream",
          "name": "stdout",
          "text": [
            "Grid search...\n",
            "...Done.\n",
            "Best hyperparameters :  {'alpha': 0.0}\n",
            "Best R2 score :  0.9254756530772802\n"
          ]
        }
      ],
      "source": [
        "print(\"Grid search...\")\n",
        "gridsearch = GridSearchCV(ridge, param_grid = {'alpha': [0.0, 0.001, 0.01]}, cv = 5)\n",
        "gridsearch.fit(X_train, Y_train)\n",
        "print(\"...Done.\")\n",
        "print(\"Best hyperparameters : \", gridsearch.best_params_)\n",
        "print(\"Best R2 score : \", gridsearch.best_score_)"
      ]
    },
    {
      "cell_type": "markdown",
      "id": "32019f51-ef43-44c3-b3cd-2037162a8dd6",
      "metadata": {
        "id": "32019f51-ef43-44c3-b3cd-2037162a8dd6"
      },
      "source": [
        "The best value found for alpha is 0 so there is no need to make a regularization"
      ]
    },
    {
      "cell_type": "markdown",
      "id": "b842974f-9750-4e80-b754-cb49256de055",
      "metadata": {
        "id": "b842974f-9750-4e80-b754-cb49256de055"
      },
      "source": [
        "### Lasso Gridsearch"
      ]
    },
    {
      "cell_type": "code",
      "execution_count": null,
      "id": "d78b4f5e-1bdd-4873-8702-34a3d425c3a6",
      "metadata": {
        "colab": {
          "base_uri": "https://localhost:8080/"
        },
        "id": "d78b4f5e-1bdd-4873-8702-34a3d425c3a6",
        "outputId": "e892eb6c-7eac-4ddd-cd0f-fdaf39278735"
      },
      "outputs": [
        {
          "output_type": "stream",
          "name": "stdout",
          "text": [
            "Grid search...\n",
            "...Done.\n",
            "Best hyperparameters :  {'alpha': 0.0}\n",
            "Best R2 score :  0.9254756530091359\n"
          ]
        }
      ],
      "source": [
        "print(\"Grid search...\")\n",
        "gridsearch = GridSearchCV(lasso, param_grid = {'alpha': [0.0, 0.1, 0.5, 1.0]}, cv = 5)\n",
        "gridsearch.fit(X_train, Y_train)\n",
        "print(\"...Done.\")\n",
        "print(\"Best hyperparameters : \", gridsearch.best_params_)\n",
        "print(\"Best R2 score : \", gridsearch.best_score_)"
      ]
    }
  ],
  "metadata": {
    "kernelspec": {
      "display_name": "Python 3",
      "language": "python",
      "name": "python3"
    },
    "language_info": {
      "codemirror_mode": {
        "name": "ipython",
        "version": 3
      },
      "file_extension": ".py",
      "mimetype": "text/x-python",
      "name": "python",
      "nbconvert_exporter": "python",
      "pygments_lexer": "ipython3",
      "version": "3.10.8 (tags/v3.10.8:aaaf517, Oct 11 2022, 16:50:30) [MSC v.1933 64 bit (AMD64)]"
    },
    "vscode": {
      "interpreter": {
        "hash": "e593ac106456af50ce7af38f9671c411b49d6cd90f9b885e167f0f594e09038c"
      }
    },
    "colab": {
      "provenance": []
    }
  },
  "nbformat": 4,
  "nbformat_minor": 5
}